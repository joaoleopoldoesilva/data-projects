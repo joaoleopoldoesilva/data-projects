{
 "cells": [
  {
   "cell_type": "markdown",
   "metadata": {},
   "source": [
    "# PROJETO: Modelagem de dados da SSP-SP / Modeling of SSP-SP data\n",
    "\n",
    "## João Leopoldo e Silva - fev/2020\n",
    "\n",
    "#### dataset: https://www.kaggle.com/inquisitivecrow/crime-data-in-brazil\n",
    "## 2007"
   ]
  },
  {
   "cell_type": "code",
   "execution_count": null,
   "metadata": {},
   "outputs": [],
   "source": [
    "import numpy as np\n",
    "import pandas as pd\n",
    "import matplotlib.pyplot as plt\n",
    "import seaborn as sns\n",
    "import lightgbm\n",
    "from sklearn.model_selection import train_test_split\n",
    "from sklearn.metrics import roc_auc_score\n",
    "from sklearn.metrics import confusion_matrix\n",
    "from sklearn.metrics import recall_score\n",
    "from sklearn.metrics import accuracy_score\n",
    "from yellowbrick.classifier import ROCAUC\n",
    "from yellowbrick.classifier import ConfusionMatrix\n",
    "import joblib"
   ]
  },
  {
   "cell_type": "code",
   "execution_count": 1,
   "metadata": {},
   "outputs": [],
   "source": [
    "import numpy as np\n",
    "import pandas as pd\n",
    "import matplotlib.pyplot as plt\n",
    "import seaborn as sns"
   ]
  },
  {
   "cell_type": "code",
   "execution_count": 2,
   "metadata": {},
   "outputs": [],
   "source": [
    "import joblib"
   ]
  },
  {
   "cell_type": "code",
   "execution_count": 3,
   "metadata": {},
   "outputs": [],
   "source": [
    "pd.options.display.max_columns = 200"
   ]
  },
  {
   "cell_type": "code",
   "execution_count": null,
   "metadata": {},
   "outputs": [],
   "source": [
    "import lightgbm\n",
    "from sklearn.model_selection import train_test_split\n",
    "from sklearn.metrics import roc_auc_score\n",
    "from sklearn.metrics import confusion_matrix\n",
    "from sklearn.metrics import recall_score\n",
    "from sklearn.metrics import accuracy_score\n",
    "from yellowbrick.classifier import ROCAUC\n",
    "from yellowbrick.classifier import ConfusionMatrix"
   ]
  },
  {
   "cell_type": "code",
   "execution_count": 4,
   "metadata": {},
   "outputs": [],
   "source": [
    "data_2007_1 = pd.read_csv('crime-data-in-brazil/BO_2007_1.csv', low_memory=False)\n",
    "data_2007_2 = pd.read_csv('crime-data-in-brazil/BO_2007_2.csv', low_memory=False)\n",
    "data_2007 = pd.concat([data_2007_1, data_2007_2], ignore_index=True)"
   ]
  },
  {
   "cell_type": "code",
   "execution_count": 5,
   "metadata": {},
   "outputs": [
    {
     "name": "stdout",
     "output_type": "stream",
     "text": [
      "<class 'pandas.core.frame.DataFrame'>\n",
      "RangeIndex: 1438704 entries, 0 to 1438703\n",
      "Data columns (total 30 columns):\n",
      "NUM_BO                    1438704 non-null int64\n",
      "ANO_BO                    1438704 non-null int64\n",
      "ID_DELEGACIA              1438704 non-null int64\n",
      "NOME_DEPARTAMENTO         1438704 non-null object\n",
      "NOME_SECCIONAL            1438704 non-null object\n",
      "DELEGACIA                 1438704 non-null object\n",
      "NOME_DEPARTAMENTO_CIRC    1438704 non-null object\n",
      "NOME_SECCIONAL_CIRC       1438704 non-null object\n",
      "NOME_DELEGACIA_CIRC       1438704 non-null object\n",
      "ANO                       1438704 non-null int64\n",
      "MES                       1438704 non-null int64\n",
      "DATA_OCORRENCIA_BO        1431882 non-null object\n",
      "HORA_OCORRENCIA_BO        1256280 non-null object\n",
      "FLAG_STATUS               1438704 non-null object\n",
      "RUBRICA                   1438704 non-null object\n",
      "DESDOBRAMENTO             42095 non-null object\n",
      "CONDUTA                   1018792 non-null object\n",
      "LATITUDE                  50713 non-null object\n",
      "LONGITUDE                 50713 non-null object\n",
      "CIDADE                    1438704 non-null object\n",
      "LOGRADOURO                1438704 non-null object\n",
      "NUMERO_LOGRADOURO         1328603 non-null object\n",
      "FLAG_STATUS.1             1438697 non-null object\n",
      "DESCR_TIPO_PESSOA         1438126 non-null object\n",
      "CONT_PESSOA               1438105 non-null object\n",
      "SEXO_PESSOA               1438111 non-null object\n",
      "IDADE_PESSOA              998211 non-null object\n",
      "COR                       1038524 non-null object\n",
      "DESCR_PROFISSAO           861246 non-null object\n",
      "DESCR_GRAU_INSTRUCAO      855677 non-null object\n",
      "dtypes: int64(5), object(25)\n",
      "memory usage: 329.3+ MB\n"
     ]
    }
   ],
   "source": [
    "data_2007.info()"
   ]
  },
  {
   "cell_type": "code",
   "execution_count": 5,
   "metadata": {},
   "outputs": [
    {
     "data": {
      "text/plain": [
       "['conduta7']"
      ]
     },
     "execution_count": 5,
     "metadata": {},
     "output_type": "execute_result"
    }
   ],
   "source": [
    "conduta = data_2007.CONDUTA.value_counts().nlargest(7).index\n",
    "joblib.dump(conduta, 'conduta7')"
   ]
  },
  {
   "cell_type": "code",
   "execution_count": 6,
   "metadata": {},
   "outputs": [
    {
     "data": {
      "text/plain": [
       "['profissao7']"
      ]
     },
     "execution_count": 6,
     "metadata": {},
     "output_type": "execute_result"
    }
   ],
   "source": [
    "profissao = data_2007_1.DESCR_PROFISSAO.value_counts().nlargest(15).index\n",
    "joblib.dump(profissao, 'profissao7')"
   ]
  },
  {
   "cell_type": "code",
   "execution_count": 7,
   "metadata": {},
   "outputs": [
    {
     "data": {
      "text/plain": [
       "['instrucao7']"
      ]
     },
     "execution_count": 7,
     "metadata": {},
     "output_type": "execute_result"
    }
   ],
   "source": [
    "instrucao = data_2007_1.DESCR_GRAU_INSTRUCAO.value_counts().nlargest(15).index\n",
    "joblib.dump(instrucao, 'instrucao7')"
   ]
  },
  {
   "cell_type": "code",
   "execution_count": 8,
   "metadata": {},
   "outputs": [],
   "source": [
    "def hora(x):\n",
    "    try:\n",
    "        if int(x[:2]) < 6:\n",
    "            return 'Madrugada'\n",
    "        elif int(x[:2]) < 12:\n",
    "            return 'Manhã'\n",
    "        elif int(x[:2]) < 18:\n",
    "            return 'Tarde'\n",
    "        else:\n",
    "            return 'Noite'\n",
    "    except:\n",
    "        return 'Indeterminado'"
   ]
  },
  {
   "cell_type": "code",
   "execution_count": 9,
   "metadata": {},
   "outputs": [],
   "source": [
    "rub_dict = joblib.load('rub_dict')"
   ]
  },
  {
   "cell_type": "code",
   "execution_count": 10,
   "metadata": {},
   "outputs": [],
   "source": [
    "data_2007['hora'] = data_2007.HORA_OCORRENCIA_BO.apply(hora)"
   ]
  },
  {
   "cell_type": "code",
   "execution_count": 11,
   "metadata": {},
   "outputs": [
    {
     "data": {
      "text/html": [
       "<div>\n",
       "<style scoped>\n",
       "    .dataframe tbody tr th:only-of-type {\n",
       "        vertical-align: middle;\n",
       "    }\n",
       "\n",
       "    .dataframe tbody tr th {\n",
       "        vertical-align: top;\n",
       "    }\n",
       "\n",
       "    .dataframe thead th {\n",
       "        text-align: right;\n",
       "    }\n",
       "</style>\n",
       "<table border=\"1\" class=\"dataframe\">\n",
       "  <thead>\n",
       "    <tr style=\"text-align: right;\">\n",
       "      <th></th>\n",
       "      <th>NUM_BO</th>\n",
       "      <th>ANO_BO</th>\n",
       "      <th>ID_DELEGACIA</th>\n",
       "      <th>NOME_DEPARTAMENTO</th>\n",
       "      <th>NOME_SECCIONAL</th>\n",
       "      <th>DELEGACIA</th>\n",
       "      <th>NOME_DEPARTAMENTO_CIRC</th>\n",
       "      <th>NOME_SECCIONAL_CIRC</th>\n",
       "      <th>NOME_DELEGACIA_CIRC</th>\n",
       "      <th>ANO</th>\n",
       "      <th>MES</th>\n",
       "      <th>DATA_OCORRENCIA_BO</th>\n",
       "      <th>HORA_OCORRENCIA_BO</th>\n",
       "      <th>FLAG_STATUS</th>\n",
       "      <th>RUBRICA</th>\n",
       "      <th>DESDOBRAMENTO</th>\n",
       "      <th>CONDUTA</th>\n",
       "      <th>LATITUDE</th>\n",
       "      <th>LONGITUDE</th>\n",
       "      <th>CIDADE</th>\n",
       "      <th>LOGRADOURO</th>\n",
       "      <th>NUMERO_LOGRADOURO</th>\n",
       "      <th>FLAG_STATUS.1</th>\n",
       "      <th>DESCR_TIPO_PESSOA</th>\n",
       "      <th>CONT_PESSOA</th>\n",
       "      <th>SEXO_PESSOA</th>\n",
       "      <th>IDADE_PESSOA</th>\n",
       "      <th>COR</th>\n",
       "      <th>DESCR_PROFISSAO</th>\n",
       "      <th>DESCR_GRAU_INSTRUCAO</th>\n",
       "      <th>hora</th>\n",
       "    </tr>\n",
       "  </thead>\n",
       "  <tbody>\n",
       "    <tr>\n",
       "      <td>1184308</td>\n",
       "      <td>11329</td>\n",
       "      <td>2007</td>\n",
       "      <td>10101</td>\n",
       "      <td>DECAP</td>\n",
       "      <td>DEL.SEC.1º CENTRO</td>\n",
       "      <td>01º D.P. SE</td>\n",
       "      <td>DECAP</td>\n",
       "      <td>DEL.SEC.1º CENTRO</td>\n",
       "      <td>01º D.P. SE</td>\n",
       "      <td>2007</td>\n",
       "      <td>9</td>\n",
       "      <td>22/09/2007</td>\n",
       "      <td>20:00</td>\n",
       "      <td>C</td>\n",
       "      <td>Furto (art. 155)</td>\n",
       "      <td>NaN</td>\n",
       "      <td>TRANSEUNTE</td>\n",
       "      <td>NaN</td>\n",
       "      <td>NaN</td>\n",
       "      <td>S.PAULO</td>\n",
       "      <td>PC DA SE</td>\n",
       "      <td>1</td>\n",
       "      <td>C</td>\n",
       "      <td>Vítima</td>\n",
       "      <td>1</td>\n",
       "      <td>F</td>\n",
       "      <td>19</td>\n",
       "      <td>Branca</td>\n",
       "      <td>VENDEDOR(A)</td>\n",
       "      <td>2 Grau completo</td>\n",
       "      <td>Noite</td>\n",
       "    </tr>\n",
       "  </tbody>\n",
       "</table>\n",
       "</div>"
      ],
      "text/plain": [
       "         NUM_BO  ANO_BO  ID_DELEGACIA  \\\n",
       "1184308   11329    2007         10101   \n",
       "\n",
       "                                NOME_DEPARTAMENTO  \\\n",
       "1184308  DECAP                                      \n",
       "\n",
       "                                   NOME_SECCIONAL  \\\n",
       "1184308  DEL.SEC.1º CENTRO                          \n",
       "\n",
       "                              DELEGACIA  \\\n",
       "1184308  01º D.P. SE                      \n",
       "\n",
       "                           NOME_DEPARTAMENTO_CIRC  \\\n",
       "1184308  DECAP                                      \n",
       "\n",
       "                              NOME_SECCIONAL_CIRC  \\\n",
       "1184308  DEL.SEC.1º CENTRO                          \n",
       "\n",
       "                    NOME_DELEGACIA_CIRC   ANO  MES DATA_OCORRENCIA_BO  \\\n",
       "1184308  01º D.P. SE                     2007    9         22/09/2007   \n",
       "\n",
       "        HORA_OCORRENCIA_BO FLAG_STATUS           RUBRICA DESDOBRAMENTO  \\\n",
       "1184308              20:00           C  Furto (art. 155)           NaN   \n",
       "\n",
       "            CONDUTA LATITUDE LONGITUDE  \\\n",
       "1184308  TRANSEUNTE      NaN       NaN   \n",
       "\n",
       "                                           CIDADE  \\\n",
       "1184308  S.PAULO                                    \n",
       "\n",
       "                                       LOGRADOURO NUMERO_LOGRADOURO  \\\n",
       "1184308  PC DA SE                                                 1   \n",
       "\n",
       "        FLAG_STATUS.1     DESCR_TIPO_PESSOA CONT_PESSOA SEXO_PESSOA  \\\n",
       "1184308             C  Vítima                         1           F   \n",
       "\n",
       "        IDADE_PESSOA                   COR                 DESCR_PROFISSAO  \\\n",
       "1184308           19  Branca                VENDEDOR(A)                      \n",
       "\n",
       "                             DESCR_GRAU_INSTRUCAO   hora  \n",
       "1184308  2 Grau completo                           Noite  "
      ]
     },
     "execution_count": 11,
     "metadata": {},
     "output_type": "execute_result"
    }
   ],
   "source": [
    "data_2007.sample()"
   ]
  },
  {
   "cell_type": "code",
   "execution_count": 12,
   "metadata": {},
   "outputs": [],
   "source": [
    "target = data_2007.RUBRICA.apply(lambda x: rub_dict[x])"
   ]
  },
  {
   "cell_type": "code",
   "execution_count": 13,
   "metadata": {},
   "outputs": [],
   "source": [
    "data_2007f = data_2007[['NOME_DEPARTAMENTO_CIRC','NOME_SECCIONAL_CIRC',\n",
    "                       'IDADE_PESSOA','FLAG_STATUS', 'DESCR_TIPO_PESSOA',\n",
    "                       'SEXO_PESSOA','COR', 'hora','CONDUTA','DESCR_PROFISSAO','DESCR_GRAU_INSTRUCAO']]"
   ]
  },
  {
   "cell_type": "code",
   "execution_count": 14,
   "metadata": {},
   "outputs": [],
   "source": [
    "data_2007f = pd.get_dummies(data=data_2007f, columns=['NOME_DEPARTAMENTO_CIRC','NOME_SECCIONAL_CIRC',\n",
    "                                                       'FLAG_STATUS', 'DESCR_TIPO_PESSOA', \n",
    "                                                       'SEXO_PESSOA','COR', 'hora'])"
   ]
  },
  {
   "cell_type": "code",
   "execution_count": 15,
   "metadata": {},
   "outputs": [],
   "source": [
    "data_2007f.loc[data_2007f['IDADE_PESSOA'] == '22 ANOS                 '] = '22'\n",
    "data_2007f.loc[data_2007f['IDADE_PESSOA'] == ' 17/18 ANOS                         '] = '17'\n",
    "data_2007f.loc[data_2007f['IDADE_PESSOA'] == ' CERCA DE 30/35 ANOS                 '] = '30'\n",
    "data_2007f.loc[data_2007f['IDADE_PESSOA'] == ' 57 ANOS                    '] = '57'\n",
    "data_2007f.loc[data_2007f['IDADE_PESSOA'] == ' 23 ANOS                         '] = '23'\n",
    "data_2007f.loc[data_2007f['IDADE_PESSOA'] == 'M'] = np.nan\n",
    "data_2007f.loc[data_2007f['IDADE_PESSOA'] == 'F'] = np.nan\n",
    "data_2007f.loc[data_2007f['IDADE_PESSOA'] == ' 18 ANOS                         '] = '18'\n",
    "data_2007f.loc[data_2007f['IDADE_PESSOA'] == 'TER 18 A 20 ANOS                  '] = '18'\n",
    "data_2007f.loc[data_2007f['IDADE_PESSOA'] == ' 21 ANOS)                      '] = '21'\n",
    "data_2007f.loc[data_2007f['IDADE_PESSOA'] == ' 27 ANOS                         '] = '27'"
   ]
  },
  {
   "cell_type": "code",
   "execution_count": 16,
   "metadata": {},
   "outputs": [],
   "source": [
    "data_2007f['IDADE_PESSOA'] = pd.to_numeric(data_2007f['IDADE_PESSOA'])"
   ]
  },
  {
   "cell_type": "code",
   "execution_count": 17,
   "metadata": {},
   "outputs": [],
   "source": [
    "conduta = joblib.load('conduta7')\n",
    "conduta_2007 = pd.get_dummies(data_2007f.CONDUTA.where(data_2007f.CONDUTA.isin(conduta), other='Other'))\n",
    "\n",
    "profissao = joblib.load('profissao7')\n",
    "profissao_2007 = pd.get_dummies(data_2007f.DESCR_PROFISSAO.where(data_2007f.DESCR_PROFISSAO.isin(profissao), other='Other'))\n",
    "\n",
    "instrucao = joblib.load('instrucao7')\n",
    "instucao_2007 = pd.get_dummies(data_2007f.DESCR_GRAU_INSTRUCAO.where(data_2007f.DESCR_GRAU_INSTRUCAO.isin(instrucao), other='Other'))"
   ]
  },
  {
   "cell_type": "code",
   "execution_count": 18,
   "metadata": {},
   "outputs": [],
   "source": [
    "data_2007f = pd.concat([data_2007f, conduta_2007, profissao_2007, instucao_2007], axis=1).drop(columns=['CONDUTA','DESCR_PROFISSAO','DESCR_GRAU_INSTRUCAO'])"
   ]
  },
  {
   "cell_type": "code",
   "execution_count": 19,
   "metadata": {},
   "outputs": [],
   "source": [
    "# data_2007f.columns\n",
    "# data_2007f.loc[data_2007f['DESCR_TIPO_PESSOA_C'] == '0']\n",
    "# data_2007f.loc[data_2007f['SEXO_PESSOA_1'] == '0']\n",
    "data_2007f = data_2007f.drop(columns=['DESCR_TIPO_PESSOA_C', 'SEXO_PESSOA_1'])"
   ]
  },
  {
   "cell_type": "code",
   "execution_count": 20,
   "metadata": {},
   "outputs": [
    {
     "data": {
      "text/plain": [
       "(1438704, 85)"
      ]
     },
     "execution_count": 20,
     "metadata": {},
     "output_type": "execute_result"
    }
   ],
   "source": [
    "data_2007f.shape"
   ]
  },
  {
   "cell_type": "code",
   "execution_count": 21,
   "metadata": {},
   "outputs": [],
   "source": [
    "data_2007f = data_2007f.fillna(0)"
   ]
  },
  {
   "cell_type": "code",
   "execution_count": 22,
   "metadata": {},
   "outputs": [],
   "source": [
    "data_2007f = data_2007f.apply(pd.to_numeric, downcast='integer')"
   ]
  },
  {
   "cell_type": "markdown",
   "metadata": {},
   "source": [
    "#### modelagem"
   ]
  },
  {
   "cell_type": "code",
   "execution_count": 23,
   "metadata": {},
   "outputs": [],
   "source": [
    "import lightgbm\n",
    "from sklearn.model_selection import train_test_split\n",
    "from yellowbrick.classifier import ROCAUC"
   ]
  },
  {
   "cell_type": "code",
   "execution_count": 24,
   "metadata": {},
   "outputs": [],
   "source": [
    "from sklearn.metrics import roc_auc_score\n",
    "from sklearn.metrics import confusion_matrix"
   ]
  },
  {
   "cell_type": "code",
   "execution_count": 25,
   "metadata": {},
   "outputs": [],
   "source": [
    "X = data_2007f\n",
    "X.columns = range(len(X.columns))"
   ]
  },
  {
   "cell_type": "code",
   "execution_count": 26,
   "metadata": {},
   "outputs": [],
   "source": [
    "# target = data_2007.RUBRICA.apply(lambda x: rub_dict[x])\n",
    "\n",
    "y = target.values"
   ]
  },
  {
   "cell_type": "code",
   "execution_count": 27,
   "metadata": {},
   "outputs": [],
   "source": [
    "X_train, X_test, y_train, y_test = train_test_split(X, y, test_size = 0.2, random_state=42)"
   ]
  },
  {
   "cell_type": "code",
   "execution_count": 28,
   "metadata": {},
   "outputs": [
    {
     "data": {
      "text/plain": [
       "LGBMClassifier(boosting_type='gbdt', class_weight=None, colsample_bytree=1.0,\n",
       "               importance_type='split', learning_rate=0.1, max_depth=-1,\n",
       "               min_child_samples=20, min_child_weight=0.001, min_split_gain=0.0,\n",
       "               n_estimators=100, n_jobs=-1, num_leaves=31, objective=None,\n",
       "               random_state=None, reg_alpha=0.0, reg_lambda=0.0, silent=True,\n",
       "               subsample=1.0, subsample_for_bin=200000, subsample_freq=0)"
      ]
     },
     "execution_count": 28,
     "metadata": {},
     "output_type": "execute_result"
    }
   ],
   "source": [
    "# model = lightgbm.LGBMClassifier(n_estimators=30, max_depth=2, colsample_bytree=0.7)\n",
    "\n",
    "model = lightgbm.LGBMClassifier()\n",
    "model.fit(X_train, y_train)"
   ]
  },
  {
   "cell_type": "markdown",
   "metadata": {},
   "source": [
    "#### rodando modelo e verificando performance"
   ]
  },
  {
   "cell_type": "code",
   "execution_count": 29,
   "metadata": {},
   "outputs": [
    {
     "data": {
      "image/png": "[encoded data removed]",
      "text/plain": [
       "<Figure size 576x396 with 1 Axes>"
      ]
     },
     "metadata": {},
     "output_type": "display_data"
    }
   ],
   "source": [
    "model_roauc = ROCAUC(model, classes=[\"leve\", \"grave\"], micro=False)\n",
    "\n",
    "model_roauc.fit(X_train, y_train)\n",
    "model_roauc.score(X_test, y_test)\n",
    "model_roauc.show();"
   ]
  },
  {
   "cell_type": "code",
   "execution_count": 30,
   "metadata": {},
   "outputs": [
    {
     "data": {
      "text/html": [
       "<div>\n",
       "<style scoped>\n",
       "    .dataframe tbody tr th:only-of-type {\n",
       "        vertical-align: middle;\n",
       "    }\n",
       "\n",
       "    .dataframe tbody tr th {\n",
       "        vertical-align: top;\n",
       "    }\n",
       "\n",
       "    .dataframe thead th {\n",
       "        text-align: right;\n",
       "    }\n",
       "</style>\n",
       "<table border=\"1\" class=\"dataframe\">\n",
       "  <thead>\n",
       "    <tr style=\"text-align: right;\">\n",
       "      <th></th>\n",
       "      <th>0</th>\n",
       "    </tr>\n",
       "  </thead>\n",
       "  <tbody>\n",
       "    <tr>\n",
       "      <td>0</td>\n",
       "      <td>0.987309</td>\n",
       "    </tr>\n",
       "    <tr>\n",
       "      <td>1</td>\n",
       "      <td>0.987829</td>\n",
       "    </tr>\n",
       "    <tr>\n",
       "      <td>2</td>\n",
       "      <td>0.873798</td>\n",
       "    </tr>\n",
       "    <tr>\n",
       "      <td>3</td>\n",
       "      <td>0.690909</td>\n",
       "    </tr>\n",
       "    <tr>\n",
       "      <td>4</td>\n",
       "      <td>0.537746</td>\n",
       "    </tr>\n",
       "    <tr>\n",
       "      <td>...</td>\n",
       "      <td>...</td>\n",
       "    </tr>\n",
       "    <tr>\n",
       "      <td>287736</td>\n",
       "      <td>0.995755</td>\n",
       "    </tr>\n",
       "    <tr>\n",
       "      <td>287737</td>\n",
       "      <td>0.408819</td>\n",
       "    </tr>\n",
       "    <tr>\n",
       "      <td>287738</td>\n",
       "      <td>0.619389</td>\n",
       "    </tr>\n",
       "    <tr>\n",
       "      <td>287739</td>\n",
       "      <td>0.978090</td>\n",
       "    </tr>\n",
       "    <tr>\n",
       "      <td>287740</td>\n",
       "      <td>0.348359</td>\n",
       "    </tr>\n",
       "  </tbody>\n",
       "</table>\n",
       "<p>287741 rows × 1 columns</p>\n",
       "</div>"
      ],
      "text/plain": [
       "               0\n",
       "0       0.987309\n",
       "1       0.987829\n",
       "2       0.873798\n",
       "3       0.690909\n",
       "4       0.537746\n",
       "...          ...\n",
       "287736  0.995755\n",
       "287737  0.408819\n",
       "287738  0.619389\n",
       "287739  0.978090\n",
       "287740  0.348359\n",
       "\n",
       "[287741 rows x 1 columns]"
      ]
     },
     "execution_count": 30,
     "metadata": {},
     "output_type": "execute_result"
    }
   ],
   "source": [
    "y_score = model.predict_proba(X_test)[:,1]\n",
    "pd.DataFrame(y_score)"
   ]
  },
  {
   "cell_type": "code",
   "execution_count": 31,
   "metadata": {},
   "outputs": [
    {
     "data": {
      "text/plain": [
       "0.897833133809967"
      ]
     },
     "execution_count": 31,
     "metadata": {},
     "output_type": "execute_result"
    }
   ],
   "source": [
    "roc_auc_score(y_test, y_score)"
   ]
  },
  {
   "cell_type": "code",
   "execution_count": 32,
   "metadata": {},
   "outputs": [
    {
     "data": {
      "text/plain": [
       "array([[0.01269074, 0.98730926],\n",
       "       [0.01217145, 0.98782855],\n",
       "       [0.12620158, 0.87379842],\n",
       "       ...,\n",
       "       [0.38061085, 0.61938915],\n",
       "       [0.02191022, 0.97808978],\n",
       "       [0.65164097, 0.34835903]])"
      ]
     },
     "execution_count": 32,
     "metadata": {},
     "output_type": "execute_result"
    }
   ],
   "source": [
    "model_roauc.predict_proba(X_test)"
   ]
  },
  {
   "cell_type": "code",
   "execution_count": 33,
   "metadata": {},
   "outputs": [
    {
     "data": {
      "text/plain": [
       "0.7105258813706435"
      ]
     },
     "execution_count": 33,
     "metadata": {},
     "output_type": "execute_result"
    }
   ],
   "source": [
    "y_train.mean()"
   ]
  },
  {
   "cell_type": "code",
   "execution_count": 34,
   "metadata": {},
   "outputs": [
    {
     "data": {
      "text/plain": [
       "array([1, 1, 1, ..., 1, 1, 0], dtype=int64)"
      ]
     },
     "execution_count": 34,
     "metadata": {},
     "output_type": "execute_result"
    }
   ],
   "source": [
    "y_pred = model.predict(X_test)\n",
    "y_pred"
   ]
  },
  {
   "cell_type": "code",
   "execution_count": 35,
   "metadata": {},
   "outputs": [
    {
     "data": {
      "text/html": [
       "<div>\n",
       "<style scoped>\n",
       "    .dataframe tbody tr th:only-of-type {\n",
       "        vertical-align: middle;\n",
       "    }\n",
       "\n",
       "    .dataframe tbody tr th {\n",
       "        vertical-align: top;\n",
       "    }\n",
       "\n",
       "    .dataframe thead th {\n",
       "        text-align: right;\n",
       "    }\n",
       "</style>\n",
       "<table border=\"1\" class=\"dataframe\">\n",
       "  <thead>\n",
       "    <tr style=\"text-align: right;\">\n",
       "      <th></th>\n",
       "      <th>0</th>\n",
       "      <th>1</th>\n",
       "    </tr>\n",
       "  </thead>\n",
       "  <tbody>\n",
       "    <tr>\n",
       "      <td>0</td>\n",
       "      <td>52308</td>\n",
       "      <td>30988</td>\n",
       "    </tr>\n",
       "    <tr>\n",
       "      <td>1</td>\n",
       "      <td>13923</td>\n",
       "      <td>190522</td>\n",
       "    </tr>\n",
       "  </tbody>\n",
       "</table>\n",
       "</div>"
      ],
      "text/plain": [
       "       0       1\n",
       "0  52308   30988\n",
       "1  13923  190522"
      ]
     },
     "execution_count": 35,
     "metadata": {},
     "output_type": "execute_result"
    }
   ],
   "source": [
    "pd.DataFrame(confusion_matrix(y_test, y_pred))"
   ]
  },
  {
   "cell_type": "code",
   "execution_count": 36,
   "metadata": {},
   "outputs": [
    {
     "data": {
      "text/plain": [
       "0.843918662964263"
      ]
     },
     "execution_count": 36,
     "metadata": {},
     "output_type": "execute_result"
    }
   ],
   "source": [
    "# acurácia = o que eu acertei / todos os casos\n",
    "(52308+190522)/287741"
   ]
  },
  {
   "cell_type": "markdown",
   "metadata": {},
   "source": [
    "#### matriz de confusão"
   ]
  },
  {
   "cell_type": "code",
   "execution_count": 37,
   "metadata": {},
   "outputs": [],
   "source": [
    "from yellowbrick.classifier import ConfusionMatrix"
   ]
  },
  {
   "cell_type": "code",
   "execution_count": 38,
   "metadata": {},
   "outputs": [
    {
     "data": {
      "image/png": "[encoded data removed]",
      "text/plain": [
       "<Figure size 576x396 with 1 Axes>"
      ]
     },
     "metadata": {},
     "output_type": "display_data"
    },
    {
     "data": {
      "text/plain": [
       "<matplotlib.axes._subplots.AxesSubplot at 0x2a9b9ed9bc8>"
      ]
     },
     "execution_count": 38,
     "metadata": {},
     "output_type": "execute_result"
    }
   ],
   "source": [
    "cm = ConfusionMatrix(model, percent=True)\n",
    "\n",
    "cm.fit(X_train, y_train)\n",
    "cm.score(X_test, y_test)\n",
    "\n",
    "cm.show()"
   ]
  },
  {
   "cell_type": "code",
   "execution_count": 39,
   "metadata": {},
   "outputs": [],
   "source": [
    "from sklearn.metrics import recall_score, accuracy_score"
   ]
  },
  {
   "cell_type": "code",
   "execution_count": 40,
   "metadata": {},
   "outputs": [
    {
     "data": {
      "text/plain": [
       "0.9318985546234929"
      ]
     },
     "execution_count": 40,
     "metadata": {},
     "output_type": "execute_result"
    }
   ],
   "source": [
    "recall_score(y_test, y_pred)\n",
    "\n",
    "# capturei 93% dos casos graves"
   ]
  },
  {
   "cell_type": "code",
   "execution_count": 41,
   "metadata": {},
   "outputs": [
    {
     "data": {
      "text/plain": [
       "0.843918662964263"
      ]
     },
     "execution_count": 41,
     "metadata": {},
     "output_type": "execute_result"
    }
   ],
   "source": [
    "accuracy_score(y_test, y_pred)"
   ]
  },
  {
   "cell_type": "markdown",
   "metadata": {},
   "source": [
    "#### salvando modelo"
   ]
  },
  {
   "cell_type": "code",
   "execution_count": 42,
   "metadata": {},
   "outputs": [
    {
     "data": {
      "text/plain": [
       "['modelo_bo_2007.pkl']"
      ]
     },
     "execution_count": 42,
     "metadata": {},
     "output_type": "execute_result"
    }
   ],
   "source": [
    "joblib.dump(model, 'modelo_bo_2007.pkl')"
   ]
  }
 ],
 "metadata": {
  "kernelspec": {
   "display_name": "Python 3",
   "language": "python",
   "name": "python3"
  },
  "language_info": {
   "codemirror_mode": {
    "name": "ipython",
    "version": 3
   },
   "file_extension": ".py",
   "mimetype": "text/x-python",
   "name": "python",
   "nbconvert_exporter": "python",
   "pygments_lexer": "ipython3",
   "version": "3.7.4"
  }
 },
 "nbformat": 4,
 "nbformat_minor": 2
}
