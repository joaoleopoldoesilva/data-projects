{
 "cells": [
  {
   "cell_type": "markdown",
   "metadata": {},
   "source": [
    "# PROJETO: Modelagem de dados da SSP-SP / Modeling of SSP-SP data\n",
    "\n",
    "## João Leopoldo e Silva - fev/2020\n",
    "\n",
    "#### dataset: https://www.kaggle.com/inquisitivecrow/crime-data-in-brazil\n",
    "## Análise exploratória de dados / Exploratory data analysis"
   ]
  },
  {
   "cell_type": "code",
   "execution_count": 1,
   "metadata": {},
   "outputs": [],
   "source": [
    "import numpy as np\n",
    "import pandas as pd\n",
    "import matplotlib.pyplot as plt\n",
    "import seaborn as sns"
   ]
  },
  {
   "cell_type": "code",
   "execution_count": 2,
   "metadata": {},
   "outputs": [],
   "source": [
    "pd.options.display.max_columns = 200\n",
    "sns.set_style('darkgrid')"
   ]
  },
  {
   "cell_type": "markdown",
   "metadata": {},
   "source": [
    "#### importando 2007 a 2014"
   ]
  },
  {
   "cell_type": "code",
   "execution_count": 5,
   "metadata": {},
   "outputs": [],
   "source": [
    "data_2007_1 = pd.read_csv('.\\crime-data-in-brazil\\BO_2007_1.csv', low_memory=False)\n",
    "data_2007_2 = pd.read_csv('.\\crime-data-in-brazil\\BO_2007_2.csv', low_memory=False)\n",
    "data_2007 = pd.concat([data_2007_1, data_2007_2], ignore_index=True)"
   ]
  },
  {
   "cell_type": "code",
   "execution_count": 6,
   "metadata": {},
   "outputs": [
    {
     "data": {
      "text/plain": [
       "(1438704, 30)"
      ]
     },
     "execution_count": 6,
     "metadata": {},
     "output_type": "execute_result"
    }
   ],
   "source": [
    "data_2007.shape"
   ]
  },
  {
   "cell_type": "code",
   "execution_count": 7,
   "metadata": {},
   "outputs": [],
   "source": [
    "data_2008_1 = pd.read_csv('.\\crime-data-in-brazil\\BO_2008_1.csv', low_memory=False)\n",
    "data_2008_2 = pd.read_csv('.\\crime-data-in-brazil\\BO_2008_2.csv', low_memory=False)\n",
    "data_2008 = pd.concat([data_2008_1, data_2008_2], ignore_index=True)"
   ]
  },
  {
   "cell_type": "code",
   "execution_count": 8,
   "metadata": {},
   "outputs": [
    {
     "data": {
      "text/plain": [
       "(1490002, 30)"
      ]
     },
     "execution_count": 8,
     "metadata": {},
     "output_type": "execute_result"
    }
   ],
   "source": [
    "data_2008.shape"
   ]
  },
  {
   "cell_type": "code",
   "execution_count": 10,
   "metadata": {},
   "outputs": [],
   "source": [
    "data_2009_1 = pd.read_csv('.\\crime-data-in-brazil\\BO_2009_1.csv', low_memory=False).drop(columns=['Unnamed: 30', 'Unnamed: 31', 'Unnamed: 32', 'Unnamed: 33'])\n",
    "data_2009_2 = pd.read_csv('.\\crime-data-in-brazil\\BO_2009_2.csv', low_memory=False).drop(columns=['Unnamed: 30', 'Unnamed: 31', 'Unnamed: 32'])\n",
    "data_2009 = pd.concat([data_2009_1, data_2009_2], ignore_index=True)"
   ]
  },
  {
   "cell_type": "code",
   "execution_count": 11,
   "metadata": {},
   "outputs": [
    {
     "data": {
      "text/plain": [
       "(1579752, 30)"
      ]
     },
     "execution_count": 11,
     "metadata": {},
     "output_type": "execute_result"
    }
   ],
   "source": [
    "data_2009.shape"
   ]
  },
  {
   "cell_type": "code",
   "execution_count": 12,
   "metadata": {},
   "outputs": [],
   "source": [
    "data_2010_1 = pd.read_csv('.\\crime-data-in-brazil\\BO_2010_1.csv', low_memory=False).drop(columns=['Unnamed: 30'])\n",
    "data_2010_2 = pd.read_csv('.\\crime-data-in-brazil\\BO_2010_2.csv', low_memory=False)\n",
    "data_2010 = pd.concat([data_2010_1, data_2010_2], ignore_index=True)"
   ]
  },
  {
   "cell_type": "code",
   "execution_count": 13,
   "metadata": {},
   "outputs": [
    {
     "data": {
      "text/plain": [
       "(1527273, 30)"
      ]
     },
     "execution_count": 13,
     "metadata": {},
     "output_type": "execute_result"
    }
   ],
   "source": [
    "data_2010.shape"
   ]
  },
  {
   "cell_type": "code",
   "execution_count": 14,
   "metadata": {},
   "outputs": [],
   "source": [
    "data_2011_1 = pd.read_csv('.\\crime-data-in-brazil\\BO_2011_1.csv', low_memory=False).drop(columns=['Unnamed: 30', 'Unnamed: 31', 'Unnamed: 32','Unnamed: 33', 'Unnamed: 34', 'Unnamed: 35', 'Unnamed: 36','Unnamed: 37', 'Unnamed: 38', 'Unnamed: 39', 'Unnamed: 40','Unnamed: 41', 'Unnamed: 42', 'Unnamed: 43', 'Unnamed: 44','Unnamed: 45', 'Unnamed: 46', 'Unnamed: 47', 'Unnamed: 48','Unnamed: 49', 'Unnamed: 50', 'Unnamed: 51', 'Unnamed: 52'])\n",
    "data_2011_2 = pd.read_csv('.\\crime-data-in-brazil\\BO_2011_2.csv', low_memory=False)\n",
    "data_2011 = pd.concat([data_2011_1, data_2011_2], ignore_index=True)"
   ]
  },
  {
   "cell_type": "code",
   "execution_count": 15,
   "metadata": {},
   "outputs": [
    {
     "data": {
      "text/plain": [
       "(1638681, 30)"
      ]
     },
     "execution_count": 15,
     "metadata": {},
     "output_type": "execute_result"
    }
   ],
   "source": [
    "data_2011.shape"
   ]
  },
  {
   "cell_type": "code",
   "execution_count": 17,
   "metadata": {},
   "outputs": [],
   "source": [
    "data_2012_1 = pd.read_csv('.\\crime-data-in-brazil\\BO_2012_1.csv', low_memory=False).drop(columns=['Unnamed: 30', 'Unnamed: 31','Unnamed: 32', 'Unnamed: 33'])\n",
    "data_2012_2 = pd.read_csv('.\\crime-data-in-brazil\\BO_2012_2.csv', low_memory=False)\n",
    "data_2012 = pd.concat([data_2012_1, data_2012_2], ignore_index=True)"
   ]
  },
  {
   "cell_type": "code",
   "execution_count": 18,
   "metadata": {},
   "outputs": [
    {
     "data": {
      "text/plain": [
       "(1728092, 30)"
      ]
     },
     "execution_count": 18,
     "metadata": {},
     "output_type": "execute_result"
    }
   ],
   "source": [
    "data_2012.shape"
   ]
  },
  {
   "cell_type": "code",
   "execution_count": 19,
   "metadata": {},
   "outputs": [],
   "source": [
    "data_2013_1 = pd.read_csv('.\\crime-data-in-brazil\\BO_2013_1.csv', low_memory=False)\n",
    "data_2013_2 = pd.read_csv('.\\crime-data-in-brazil\\BO_2013_2.csv', low_memory=False)\n",
    "data_2013 = pd.concat([data_2013_1, data_2013_2], ignore_index=True)"
   ]
  },
  {
   "cell_type": "code",
   "execution_count": 20,
   "metadata": {},
   "outputs": [
    {
     "data": {
      "text/plain": [
       "(1910420, 30)"
      ]
     },
     "execution_count": 20,
     "metadata": {},
     "output_type": "execute_result"
    }
   ],
   "source": [
    "data_2013.shape"
   ]
  },
  {
   "cell_type": "code",
   "execution_count": 21,
   "metadata": {},
   "outputs": [],
   "source": [
    "data_2014_1 = pd.read_csv('.\\crime-data-in-brazil\\BO_2014_1.csv', low_memory=False)\n",
    "data_2014_2 = pd.read_csv('.\\crime-data-in-brazil\\BO_2014_2.csv', low_memory=False)\n",
    "data_2014 = pd.concat([data_2014_1, data_2014_2], ignore_index=True)"
   ]
  },
  {
   "cell_type": "code",
   "execution_count": 22,
   "metadata": {},
   "outputs": [
    {
     "data": {
      "text/plain": [
       "(1844187, 30)"
      ]
     },
     "execution_count": 22,
     "metadata": {},
     "output_type": "execute_result"
    }
   ],
   "source": [
    "data_2014.shape"
   ]
  },
  {
   "cell_type": "code",
   "execution_count": 23,
   "metadata": {},
   "outputs": [],
   "source": [
    "data_tudo = pd.concat([data_2007, data_2008, data_2009, data_2010, data_2011, data_2012, data_2013, data_2014], ignore_index=True)"
   ]
  },
  {
   "cell_type": "code",
   "execution_count": 24,
   "metadata": {},
   "outputs": [
    {
     "data": {
      "text/plain": [
       "(13157111, 30)"
      ]
     },
     "execution_count": 24,
     "metadata": {},
     "output_type": "execute_result"
    }
   ],
   "source": [
    "data_tudo.shape"
   ]
  },
  {
   "cell_type": "code",
   "execution_count": 25,
   "metadata": {},
   "outputs": [
    {
     "data": {
      "text/plain": [
       "13157111"
      ]
     },
     "execution_count": 25,
     "metadata": {},
     "output_type": "execute_result"
    }
   ],
   "source": [
    "1438704+1490002+1579752+1527273+1638681+1728092+1910420+1844187\n",
    "# 2007   2008    2009    2010     2011   2012     2013   2014"
   ]
  },
  {
   "cell_type": "code",
   "execution_count": 11,
   "metadata": {},
   "outputs": [
    {
     "data": {
      "text/plain": [
       "(1844187, 30)"
      ]
     },
     "execution_count": 11,
     "metadata": {},
     "output_type": "execute_result"
    }
   ],
   "source": [
    "data_2014.shape"
   ]
  },
  {
   "cell_type": "code",
   "execution_count": null,
   "metadata": {},
   "outputs": [],
   "source": [
    "tabela_final = {'ano': [2007, 2008, 2009, 2010], 'acuracia':[84, 85, 86, 85], 'recall':[93,93,93,93]}\n",
    "\n",
    "a = pd.DataFrame.from_dict(tabela_final)"
   ]
  },
  {
   "cell_type": "code",
   "execution_count": 58,
   "metadata": {},
   "outputs": [
    {
     "data": {
      "text/html": [
       "<div>\n",
       "<style scoped>\n",
       "    .dataframe tbody tr th:only-of-type {\n",
       "        vertical-align: middle;\n",
       "    }\n",
       "\n",
       "    .dataframe tbody tr th {\n",
       "        vertical-align: top;\n",
       "    }\n",
       "\n",
       "    .dataframe thead th {\n",
       "        text-align: right;\n",
       "    }\n",
       "</style>\n",
       "<table border=\"1\" class=\"dataframe\">\n",
       "  <thead>\n",
       "    <tr style=\"text-align: right;\">\n",
       "      <th></th>\n",
       "      <th>1</th>\n",
       "    </tr>\n",
       "  </thead>\n",
       "  <tbody>\n",
       "    <tr>\n",
       "      <td>2007</td>\n",
       "      <td>143870</td>\n",
       "    </tr>\n",
       "    <tr>\n",
       "      <td>2008</td>\n",
       "      <td>1490002</td>\n",
       "    </tr>\n",
       "    <tr>\n",
       "      <td>2009</td>\n",
       "      <td>1579752</td>\n",
       "    </tr>\n",
       "    <tr>\n",
       "      <td>2010</td>\n",
       "      <td>1527273</td>\n",
       "    </tr>\n",
       "    <tr>\n",
       "      <td>2011</td>\n",
       "      <td>1638681</td>\n",
       "    </tr>\n",
       "    <tr>\n",
       "      <td>2012</td>\n",
       "      <td>1728092</td>\n",
       "    </tr>\n",
       "    <tr>\n",
       "      <td>2013</td>\n",
       "      <td>1910420</td>\n",
       "    </tr>\n",
       "    <tr>\n",
       "      <td>2014</td>\n",
       "      <td>1844187</td>\n",
       "    </tr>\n",
       "    <tr>\n",
       "      <td>soma</td>\n",
       "      <td>13157111</td>\n",
       "    </tr>\n",
       "  </tbody>\n",
       "</table>\n",
       "</div>"
      ],
      "text/plain": [
       "             1\n",
       "2007    143870\n",
       "2008   1490002\n",
       "2009   1579752\n",
       "2010   1527273\n",
       "2011   1638681\n",
       "2012   1728092\n",
       "2013   1910420\n",
       "2014   1844187\n",
       "soma  13157111"
      ]
     },
     "execution_count": 58,
     "metadata": {},
     "output_type": "execute_result"
    }
   ],
   "source": [
    "data_tudo_tabela = pd.DataFrame.from_records([{'2007':'143870',\n",
    "                  '2008':1490002,\n",
    "                  '2009':1579752,\n",
    "                  '2010':1527273,\n",
    "                  '2011':1638681,\n",
    "                  '2012':1728092,\n",
    "                  '2013':1910420,\n",
    "                  '2014':1844187,\n",
    "                  'soma':13157111}], index=[1])\n",
    "\n",
    "data_tudo_tabela.T"
   ]
  },
  {
   "cell_type": "code",
   "execution_count": 59,
   "metadata": {},
   "outputs": [
    {
     "data": {
      "text/plain": [
       "4597027"
      ]
     },
     "execution_count": 59,
     "metadata": {},
     "output_type": "execute_result"
    }
   ],
   "source": [
    "1490002+1579752+1527273"
   ]
  },
  {
   "cell_type": "code",
   "execution_count": null,
   "metadata": {},
   "outputs": [],
   "source": []
  },
  {
   "cell_type": "code",
   "execution_count": 61,
   "metadata": {},
   "outputs": [
    {
     "data": {
      "text/html": [
       "<div>\n",
       "<style scoped>\n",
       "    .dataframe tbody tr th:only-of-type {\n",
       "        vertical-align: middle;\n",
       "    }\n",
       "\n",
       "    .dataframe tbody tr th {\n",
       "        vertical-align: top;\n",
       "    }\n",
       "\n",
       "    .dataframe thead th {\n",
       "        text-align: right;\n",
       "    }\n",
       "</style>\n",
       "<table border=\"1\" class=\"dataframe\">\n",
       "  <thead>\n",
       "    <tr style=\"text-align: right;\">\n",
       "      <th></th>\n",
       "      <th>1</th>\n",
       "    </tr>\n",
       "  </thead>\n",
       "  <tbody>\n",
       "    <tr>\n",
       "      <td>2007</td>\n",
       "      <td>143870</td>\n",
       "    </tr>\n",
       "    <tr>\n",
       "      <td>2008</td>\n",
       "      <td>1490002</td>\n",
       "    </tr>\n",
       "    <tr>\n",
       "      <td>2009</td>\n",
       "      <td>1579752</td>\n",
       "    </tr>\n",
       "    <tr>\n",
       "      <td>2010</td>\n",
       "      <td>1527273</td>\n",
       "    </tr>\n",
       "    <tr>\n",
       "      <td>soma</td>\n",
       "      <td>4597027</td>\n",
       "    </tr>\n",
       "  </tbody>\n",
       "</table>\n",
       "</div>"
      ],
      "text/plain": [
       "            1\n",
       "2007   143870\n",
       "2008  1490002\n",
       "2009  1579752\n",
       "2010  1527273\n",
       "soma  4597027"
      ]
     },
     "execution_count": 61,
     "metadata": {},
     "output_type": "execute_result"
    }
   ],
   "source": [
    "data_2007_2010_tabela = pd.DataFrame.from_records([{'2007':'143870',\n",
    "                  '2008':1490002,\n",
    "                  '2009':1579752,\n",
    "                  '2010':1527273,\n",
    "                  'soma':4597027}], index=[1])\n",
    "\n",
    "data_2007_2010_tabela.T"
   ]
  },
  {
   "cell_type": "code",
   "execution_count": 48,
   "metadata": {},
   "outputs": [
    {
     "data": {
      "text/html": [
       "<div>\n",
       "<style scoped>\n",
       "    .dataframe tbody tr th:only-of-type {\n",
       "        vertical-align: middle;\n",
       "    }\n",
       "\n",
       "    .dataframe tbody tr th {\n",
       "        vertical-align: top;\n",
       "    }\n",
       "\n",
       "    .dataframe thead th {\n",
       "        text-align: right;\n",
       "    }\n",
       "</style>\n",
       "<table border=\"1\" class=\"dataframe\">\n",
       "  <thead>\n",
       "    <tr style=\"text-align: right;\">\n",
       "      <th></th>\n",
       "      <th>0</th>\n",
       "    </tr>\n",
       "  </thead>\n",
       "  <tbody>\n",
       "    <tr>\n",
       "      <td>index</td>\n",
       "      <td>0</td>\n",
       "    </tr>\n",
       "    <tr>\n",
       "      <td>2007</td>\n",
       "      <td>143870</td>\n",
       "    </tr>\n",
       "    <tr>\n",
       "      <td>2008</td>\n",
       "      <td>1490002</td>\n",
       "    </tr>\n",
       "    <tr>\n",
       "      <td>2009</td>\n",
       "      <td>1579752</td>\n",
       "    </tr>\n",
       "    <tr>\n",
       "      <td>2010</td>\n",
       "      <td>1527273</td>\n",
       "    </tr>\n",
       "    <tr>\n",
       "      <td>2011</td>\n",
       "      <td>1638681</td>\n",
       "    </tr>\n",
       "    <tr>\n",
       "      <td>2012</td>\n",
       "      <td>1728092</td>\n",
       "    </tr>\n",
       "    <tr>\n",
       "      <td>2013</td>\n",
       "      <td>1910420</td>\n",
       "    </tr>\n",
       "    <tr>\n",
       "      <td>2014</td>\n",
       "      <td>1844187</td>\n",
       "    </tr>\n",
       "  </tbody>\n",
       "</table>\n",
       "</div>"
      ],
      "text/plain": [
       "             0\n",
       "index        0\n",
       "2007    143870\n",
       "2008   1490002\n",
       "2009   1579752\n",
       "2010   1527273\n",
       "2011   1638681\n",
       "2012   1728092\n",
       "2013   1910420\n",
       "2014   1844187"
      ]
     },
     "execution_count": 48,
     "metadata": {},
     "output_type": "execute_result"
    }
   ],
   "source": [
    "data_tudo_tabela = pd.DataFrame({'2007':'143870',\n",
    "                  '2008':'1490002',\n",
    "                  '2009':'1579752',\n",
    "                  '2010':'1527273',\n",
    "                  '2011':'1638681',\n",
    "                  '2012':'1728092',\n",
    "                  '2013':'1910420',\n",
    "                  '2014':'1844187'}, index=[0])\n",
    "data_tudo_tabela.T"
   ]
  },
  {
   "cell_type": "code",
   "execution_count": 31,
   "metadata": {},
   "outputs": [
    {
     "data": {
      "text/plain": [
       "{2007: 143870,\n",
       " 2008: 1490002,\n",
       " 2009: 1579752,\n",
       " 2010: 1527273,\n",
       " 2011: 1638681,\n",
       " 2012: 1728092,\n",
       " 2013: 1910420,\n",
       " 2014: 1844187}"
      ]
     },
     "execution_count": 31,
     "metadata": {},
     "output_type": "execute_result"
    }
   ],
   "source": [
    "data_tudo_dict"
   ]
  },
  {
   "cell_type": "markdown",
   "metadata": {},
   "source": [
    "#### volume bo em cada área 2007-2014"
   ]
  },
  {
   "cell_type": "code",
   "execution_count": 4,
   "metadata": {},
   "outputs": [
    {
     "data": {
      "text/plain": [
       "1438704"
      ]
     },
     "execution_count": 4,
     "metadata": {},
     "output_type": "execute_result"
    }
   ],
   "source": [
    "data_bar_nomesicc = pd.read_csv('total_nome_secc_circ.csv').drop(columns=['Unnamed: 0'])\n",
    "data_bar_nomesicc.total.sum()"
   ]
  },
  {
   "cell_type": "code",
   "execution_count": 10,
   "metadata": {},
   "outputs": [
    {
     "data": {
      "image/png": "[encoded data removed]",
      "text/plain": [
       "<Figure size 1152x518.4 with 1 Axes>"
      ]
     },
     "metadata": {},
     "output_type": "display_data"
    }
   ],
   "source": [
    "sns.set(font_scale=1)\n",
    "plt.figure(figsize=(16,16*0.45))\n",
    "plt.title('Incidências por área', fontsize=20)\n",
    "\n",
    "sns.barplot(data=data_bar_nomesicc, x='NOME_SECCIONAL_CIRC', y='total')\n",
    "\n",
    "#plt.xlim(0, 20000)\n",
    "#plt.ylim(0, 20000)\n",
    "\n",
    "plt.xticks(rotation=25)\n",
    "plt.xlabel('Seccionais', fontsize=20)\n",
    "plt.ylabel('Contagem', fontsize=20);"
   ]
  },
  {
   "cell_type": "markdown",
   "metadata": {},
   "source": [
    "#### total rubricas por mês/ano"
   ]
  },
  {
   "cell_type": "code",
   "execution_count": 1,
   "metadata": {},
   "outputs": [],
   "source": [
    "# # 2007\n",
    "# data_2007_mes = data_2007[['ANO_BO','MES']]\n",
    "# data_2007_rubrica = pd.DataFrame(data_2007.RUBRICA.value_counts().nlargest(7)).reset_index()\n",
    "# data_2007_mes_rubrica = pd.concat([data_2007_mes, data_2007_rubrica], axis=1).dropna()\n",
    "# data_2007_mes_rubrica"
   ]
  },
  {
   "cell_type": "code",
   "execution_count": 2,
   "metadata": {},
   "outputs": [],
   "source": [
    "# # 2008\n",
    "# data_2008_mes = data_2008[['ANO_BO','MES']]\n",
    "# data_2008_rubrica = pd.DataFrame(data_2008.RUBRICA.value_counts().nlargest(7)).reset_index()\n",
    "# data_2008_mes_rubrica = pd.concat([data_2008_mes, data_2008_rubrica], axis=1).dropna()\n",
    "# data_2008_mes_rubrica"
   ]
  },
  {
   "cell_type": "code",
   "execution_count": 3,
   "metadata": {},
   "outputs": [],
   "source": [
    "# # 2009\n",
    "# data_2009_mes = data_2009[['ANO_BO','MES']]\n",
    "# data_2009_rubrica = pd.DataFrame(data_2009.RUBRICA.value_counts().nlargest(7)).reset_index()\n",
    "# data_2009_mes_rubrica = pd.concat([data_2009_mes, data_2009_rubrica], axis=1).dropna()\n",
    "# data_2009_mes_rubrica"
   ]
  },
  {
   "cell_type": "code",
   "execution_count": 4,
   "metadata": {},
   "outputs": [],
   "source": [
    "# # 2010\n",
    "# data_2010_mes = data_2010[['ANO_BO','MES']]\n",
    "# data_2010_rubrica = pd.DataFrame(data_2010.RUBRICA.value_counts().nlargest(7)).reset_index()\n",
    "# data_2010_mes_rubrica = pd.concat([data_2010_mes, data_2010_rubrica], axis=1).dropna()\n",
    "# data_2010_mes_rubrica"
   ]
  },
  {
   "cell_type": "code",
   "execution_count": 5,
   "metadata": {},
   "outputs": [],
   "source": [
    "# # 2011\n",
    "# data_2011_mes = data_2011[['ANO_BO','MES']]\n",
    "# data_2011_rubrica = pd.DataFrame(data_2011.RUBRICA.value_counts().nlargest(7)).reset_index()\n",
    "# data_2011_mes_rubrica = pd.concat([data_2011_mes, data_2011_rubrica], axis=1).dropna()\n",
    "# data_2011_mes_rubrica"
   ]
  },
  {
   "cell_type": "code",
   "execution_count": 6,
   "metadata": {},
   "outputs": [],
   "source": [
    "# # 2012\n",
    "# data_2012_mes = data_2012[['ANO_BO','MES']]\n",
    "# data_2012_rubrica = pd.DataFrame(data_2012.RUBRICA.value_counts().nlargest(7)).reset_index()\n",
    "# data_2012_mes_rubrica = pd.concat([data_2012_mes, data_2012_rubrica], axis=1).dropna()\n",
    "# data_2012_mes_rubrica"
   ]
  },
  {
   "cell_type": "code",
   "execution_count": 7,
   "metadata": {},
   "outputs": [],
   "source": [
    "# # 2013\n",
    "# data_2013_mes = data_2013[['ANO_BO','MES']]\n",
    "# data_2013_rubrica = pd.DataFrame(data_2013.RUBRICA.value_counts().nlargest(7)).reset_index()\n",
    "# data_2013_mes_rubrica = pd.concat([data_2013_mes, data_2013_rubrica], axis=1).dropna()\n",
    "# data_2013_mes_rubrica"
   ]
  },
  {
   "cell_type": "code",
   "execution_count": 8,
   "metadata": {},
   "outputs": [],
   "source": [
    "# # 2014\n",
    "# data_2014_mes = data_2014[['ANO_BO','MES']]\n",
    "# data_2014_rubrica = pd.DataFrame(data_2014.RUBRICA.value_counts().nlargest(7)).reset_index()\n",
    "# data_2014_mes_rubrica = pd.concat([data_2014_mes, data_2014_rubrica], axis=1).dropna()\n",
    "# data_2014_mes_rubrica"
   ]
  },
  {
   "cell_type": "code",
   "execution_count": 9,
   "metadata": {},
   "outputs": [],
   "source": [
    "# # total\n",
    "# data_total_mes_rubrica = pd.concat([data_2007_mes_rubrica, data_2008_mes_rubrica, data_2009_mes_rubrica, data_2010_mes_rubrica, data_2011_mes_rubrica, data_2012_mes_rubrica, data_2013_mes_rubrica, data_2014_mes_rubrica])\n",
    "# data_total_mes_rubrica.to_csv('data_total_mes_rubrica.csv')"
   ]
  },
  {
   "cell_type": "code",
   "execution_count": 46,
   "metadata": {},
   "outputs": [
    {
     "data": {
      "text/html": [
       "<div>\n",
       "<style scoped>\n",
       "    .dataframe tbody tr th:only-of-type {\n",
       "        vertical-align: middle;\n",
       "    }\n",
       "\n",
       "    .dataframe tbody tr th {\n",
       "        vertical-align: top;\n",
       "    }\n",
       "\n",
       "    .dataframe thead th {\n",
       "        text-align: right;\n",
       "    }\n",
       "</style>\n",
       "<table border=\"1\" class=\"dataframe\">\n",
       "  <thead>\n",
       "    <tr style=\"text-align: right;\">\n",
       "      <th></th>\n",
       "      <th>ANO_BO</th>\n",
       "      <th>index</th>\n",
       "      <th>RUBRICA</th>\n",
       "    </tr>\n",
       "  </thead>\n",
       "  <tbody>\n",
       "    <tr>\n",
       "      <td>0</td>\n",
       "      <td>2007</td>\n",
       "      <td>Roubo (art. 157)</td>\n",
       "      <td>631139.0</td>\n",
       "    </tr>\n",
       "    <tr>\n",
       "      <td>1</td>\n",
       "      <td>2007</td>\n",
       "      <td>Furto (art. 155)</td>\n",
       "      <td>316177.0</td>\n",
       "    </tr>\n",
       "    <tr>\n",
       "      <td>2</td>\n",
       "      <td>2007</td>\n",
       "      <td>Lesão corporal (art. 129)</td>\n",
       "      <td>164703.0</td>\n",
       "    </tr>\n",
       "    <tr>\n",
       "      <td>3</td>\n",
       "      <td>2007</td>\n",
       "      <td>Lesão corporal culposa na direção de veículo a...</td>\n",
       "      <td>155058.0</td>\n",
       "    </tr>\n",
       "    <tr>\n",
       "      <td>4</td>\n",
       "      <td>2007</td>\n",
       "      <td>Furto qualificado (art. 155, §4o.)</td>\n",
       "      <td>71215.0</td>\n",
       "    </tr>\n",
       "  </tbody>\n",
       "</table>\n",
       "</div>"
      ],
      "text/plain": [
       "   ANO_BO                                              index   RUBRICA\n",
       "0    2007                                   Roubo (art. 157)  631139.0\n",
       "1    2007                                   Furto (art. 155)  316177.0\n",
       "2    2007                          Lesão corporal (art. 129)  164703.0\n",
       "3    2007  Lesão corporal culposa na direção de veículo a...  155058.0\n",
       "4    2007                 Furto qualificado (art. 155, §4o.)   71215.0"
      ]
     },
     "execution_count": 46,
     "metadata": {},
     "output_type": "execute_result"
    }
   ],
   "source": [
    "data_total_mes_rubrica = pd.read_csv('data_total_mes_rubrica.csv').drop(columns=['Unnamed: 0', 'MES'])\n",
    "data_total_mes_rubrica.head()"
   ]
  },
  {
   "cell_type": "code",
   "execution_count": 47,
   "metadata": {},
   "outputs": [],
   "source": [
    "# Lesão corporal\n",
    "data_total_mes_rubrica.loc[data_total_mes_rubrica['index'] == 'Lesão corporal (art 129 § 9º)', 'index'] = 'Lesão corporal'\n",
    "data_total_mes_rubrica.loc[data_total_mes_rubrica['index'] == 'Lesão corporal culposa na direção de veículo automotor (Art. 303)', 'index'] = 'Lesão corporal'\n",
    "data_total_mes_rubrica.loc[data_total_mes_rubrica['index'] == 'Lesão corporal (art. 129)', 'index'] = 'Lesão corporal'\n",
    "data_total_mes_rubrica.loc[data_total_mes_rubrica['index'] == 'A.I.-Lesão corporal culposa na direção de veículo automotor (Art. 303)', 'index'] = 'Lesão corporal'\n",
    "data_total_mes_rubrica.loc[data_total_mes_rubrica['index'] == 'A.I.-Lesão corporal (art. 129)', 'index'] = 'Lesão corporal'\n",
    "data_total_mes_rubrica.loc[data_total_mes_rubrica['index'] == 'Lesão corporal de natureza GRAVE (art. 129, §1o.)', 'index'] = 'Lesão corporal'\n",
    "data_total_mes_rubrica.loc[data_total_mes_rubrica['index'] == 'Lesão corporal culposa (art. 129. §6o.)', 'index'] = 'Lesão corporal'\n",
    "data_total_mes_rubrica.loc[data_total_mes_rubrica['index'] == \"Lesão corporal  de natureza 'GRAVÍSSIMA' (art. 129, §2o.)\", 'index'] = 'Lesão corporal'\n",
    "data_total_mes_rubrica.loc[data_total_mes_rubrica['index'] == 'A.I.-Lesão corporal (art 129 § 9º)', 'index'] = 'Lesão corporal'\n",
    "data_total_mes_rubrica.loc[data_total_mes_rubrica['index'] == 'A.I.-Lesão corporal culposa (art. 129. §6o.)', 'index'] = 'Lesão corporal'\n",
    "data_total_mes_rubrica.loc[data_total_mes_rubrica['index'] == 'A.I.-Lesão corporal culposa (art. 129. §6o.)', 'index'] = 'Lesão corporal'\n",
    "# Homicídios\n",
    "data_total_mes_rubrica.loc[data_total_mes_rubrica['index'] == 'Homicídio simples (art. 121)', 'index'] = 'Homicídios'\n",
    "data_total_mes_rubrica.loc[data_total_mes_rubrica['index'] == 'Homicídio culposo na direção de veículo automotor (Art. 302)', 'index'] = 'Homicídios'\n",
    "data_total_mes_rubrica.loc[data_total_mes_rubrica['index'] == 'Homicídio qualificado (art. 121, §2o.)', 'index'] = 'Homicídios'\n",
    "data_total_mes_rubrica.loc[data_total_mes_rubrica['index'] == 'Homicídio culposo (art. 121, §3o.)', 'index'] = 'Homicídios'\n",
    "data_total_mes_rubrica.loc[data_total_mes_rubrica['index'] == 'A.I.-Homicídio simples (art. 121)', 'index'] = 'Homicídios'\n",
    "data_total_mes_rubrica.loc[data_total_mes_rubrica['index'] == 'A.I.-Homicídio qualificado (art. 121, §2o.)', 'index'] = 'Homicídios'\n",
    "# Furto ou roubo\n",
    "data_total_mes_rubrica.loc[data_total_mes_rubrica['index'] == 'Furto (art. 155)', 'index'] = 'Furto ou roubo'\n",
    "data_total_mes_rubrica.loc[data_total_mes_rubrica['index'] == 'Roubo (art. 157)', 'index'] = 'Furto ou roubo'\n",
    "data_total_mes_rubrica.loc[data_total_mes_rubrica['index'] == 'A.I.-Furto qualificado (art. 155, §4o.)', 'index'] = 'Furto ou roubo'\n",
    "data_total_mes_rubrica.loc[data_total_mes_rubrica['index'] == 'A.I.-Roubo (art. 157)', 'index'] = 'Furto ou roubo'\n",
    "data_total_mes_rubrica.loc[data_total_mes_rubrica['index'] == 'A.I.-Furto (art. 155)', 'index'] = 'Furto ou roubo'\n",
    "data_total_mes_rubrica.loc[data_total_mes_rubrica['index'] == 'Furto de coisa comum (art. 156)', 'index'] = 'Furto ou roubo'\n",
    "data_total_mes_rubrica.loc[data_total_mes_rubrica['index'] == 'Furto qualificado (art. 155, §4o.)', 'index'] = 'Furto ou roubo'\n",
    "# Táfico ou uso de drogas\n",
    "data_total_mes_rubrica.loc[data_total_mes_rubrica['index'] == 'A.I.-Drogas sem autorização ou em desacordo (Art.33, caput)', 'index'] = 'Táfico ou uso de drogas'\n",
    "data_total_mes_rubrica.loc[data_total_mes_rubrica['index'] == 'Drogas sem autorização ou em desacordo (Art.33, caput)', 'index'] = 'Táfico ou uso de drogas'\n",
    "data_total_mes_rubrica.loc[data_total_mes_rubrica['index'] == 'A.I.-Tráfico de entorpecente (Art. 12)', 'index'] = 'Táfico ou uso de drogas'\n",
    "data_total_mes_rubrica.loc[data_total_mes_rubrica['index'] == 'Oferecer droga a pessoa de seu relacionamento (Art.33,§3º)', 'index'] = 'Táfico ou uso de drogas'\n",
    "data_total_mes_rubrica.loc[data_total_mes_rubrica['index'] == 'A.I.-Porte de entorpecente (Art. 16)', 'index'] = 'Táfico ou uso de drogas'\n",
    "data_total_mes_rubrica.loc[data_total_mes_rubrica['index'] == 'A.I.-Oferecer droga a pessoa de seu relacionamento (Art.33,§3º)', 'index'] = 'Táfico ou uso de drogas'\n",
    "# crime_sexual\n",
    "data_total_mes_rubrica.loc[data_total_mes_rubrica['index'] == 'Estupro de vulneravel (art.217-A)', 'index'] = 'Crime sexual'\n",
    "data_total_mes_rubrica.loc[data_total_mes_rubrica['index'] == 'Estupro (art.213)', 'index'] = 'Crime sexual'\n",
    "data_total_mes_rubrica.loc[data_total_mes_rubrica['index'] == 'A.I.-Estupro de vulneravel (art.217-A)', 'index'] = 'Crime sexual'"
   ]
  },
  {
   "cell_type": "code",
   "execution_count": 48,
   "metadata": {},
   "outputs": [
    {
     "data": {
      "text/plain": [
       "array(['Furto ou roubo', 'Lesão corporal', 'Táfico ou uso de drogas'],\n",
       "      dtype=object)"
      ]
     },
     "execution_count": 48,
     "metadata": {},
     "output_type": "execute_result"
    }
   ],
   "source": [
    "data_total_mes_rubrica['index'].unique()"
   ]
  },
  {
   "cell_type": "code",
   "execution_count": 49,
   "metadata": {},
   "outputs": [
    {
     "data": {
      "text/html": [
       "<div>\n",
       "<style scoped>\n",
       "    .dataframe tbody tr th:only-of-type {\n",
       "        vertical-align: middle;\n",
       "    }\n",
       "\n",
       "    .dataframe tbody tr th {\n",
       "        vertical-align: top;\n",
       "    }\n",
       "\n",
       "    .dataframe thead th {\n",
       "        text-align: right;\n",
       "    }\n",
       "</style>\n",
       "<table border=\"1\" class=\"dataframe\">\n",
       "  <thead>\n",
       "    <tr style=\"text-align: right;\">\n",
       "      <th></th>\n",
       "      <th>ANO_BO</th>\n",
       "      <th>index</th>\n",
       "      <th>RUBRICA</th>\n",
       "    </tr>\n",
       "  </thead>\n",
       "  <tbody>\n",
       "  </tbody>\n",
       "</table>\n",
       "</div>"
      ],
      "text/plain": [
       "Empty DataFrame\n",
       "Columns: [ANO_BO, index, RUBRICA]\n",
       "Index: []"
      ]
     },
     "execution_count": 49,
     "metadata": {},
     "output_type": "execute_result"
    }
   ],
   "source": [
    "data_total_mes_rubrica.query('index == \"Roubo (art. 157)\"')"
   ]
  },
  {
   "cell_type": "code",
   "execution_count": 52,
   "metadata": {},
   "outputs": [
    {
     "data": {
      "image/png": "[encoded data removed]",
      "text/plain": [
       "<Figure size 1440x648 with 1 Axes>"
      ]
     },
     "metadata": {},
     "output_type": "display_data"
    }
   ],
   "source": [
    "sns.set(font_scale=1)\n",
    "plt.figure(figsize=(20,20*0.45))\n",
    "plt.title('Incidências por ano', fontsize=20)\n",
    "\n",
    "sns.barplot(data=data_total_mes_rubrica, x='ANO_BO', y='RUBRICA', hue='index');\n",
    "\n",
    "#plt.xlim(0, 20000)\n",
    "#plt.ylim(0, 20000)\n",
    "plt.legend(bbox_to_anchor=(1.05, 1), loc=2, borderaxespad=0.)\n",
    "plt.xticks(rotation=25)\n",
    "plt.xlabel('Seccionais', fontsize=20)\n",
    "plt.ylabel('Contagem', fontsize=20);"
   ]
  },
  {
   "cell_type": "code",
   "execution_count": 50,
   "metadata": {},
   "outputs": [
    {
     "name": "stderr",
     "output_type": "stream",
     "text": [
      "No handles with labels found to put in legend.\n"
     ]
    },
    {
     "data": {
      "image/png": "[encoded data removed]",
      "text/plain": [
       "<Figure size 1440x648 with 1 Axes>"
      ]
     },
     "metadata": {},
     "output_type": "display_data"
    }
   ],
   "source": [
    "# Roubo (art. 157)\n",
    "\n",
    "sns.set(font_scale=2)\n",
    "plt.figure(figsize=(20,20*0.45))\n",
    "plt.title('Incidências de ROUBO por ano', fontsize=20)\n",
    "\n",
    "sns.barplot(data=data_total_mes_rubrica.query('index == \"Roubo (art. 157)\"'), x='ANO_BO', y='RUBRICA')\n",
    "\n",
    "#plt.xlim(0, 20000)\n",
    "#plt.ylim(0, 20000)\n",
    "plt.legend(bbox_to_anchor=(1.05, 1), loc=2, borderaxespad=0.)\n",
    "plt.xticks(rotation=25)\n",
    "plt.xlabel('', fontsize=20)\n",
    "plt.ylabel('', fontsize=20);"
   ]
  },
  {
   "cell_type": "code",
   "execution_count": 49,
   "metadata": {},
   "outputs": [
    {
     "name": "stderr",
     "output_type": "stream",
     "text": [
      "No handles with labels found to put in legend.\n"
     ]
    },
    {
     "data": {
      "image/png": "[encoded data removed]",
      "text/plain": [
       "<Figure size 1440x648 with 1 Axes>"
      ]
     },
     "metadata": {},
     "output_type": "display_data"
    }
   ],
   "source": [
    "# Lesão corporal (art. 129)\n",
    "\n",
    "sns.set(font_scale=2)\n",
    "plt.figure(figsize=(20,20*0.45))\n",
    "plt.title('Incidências de LESÃO CORPORAL por ano', fontsize=20)\n",
    "\n",
    "sns.barplot(data=data_total_mes_rubrica.query('index == \"Lesão corporal (art. 129)\"'), x='ANO_BO', y='RUBRICA')\n",
    "\n",
    "#plt.xlim(0, 20000)\n",
    "#plt.ylim(0, 20000)\n",
    "plt.legend(bbox_to_anchor=(1.05, 1), loc=2, borderaxespad=0.)\n",
    "plt.xticks(rotation=25)\n",
    "plt.xlabel('', fontsize=20)\n",
    "plt.ylabel('', fontsize=20);"
   ]
  },
  {
   "cell_type": "markdown",
   "metadata": {},
   "source": [
    "### geo\n",
    "#### 2007"
   ]
  },
  {
   "cell_type": "code",
   "execution_count": 31,
   "metadata": {},
   "outputs": [
    {
     "data": {
      "text/html": [
       "<div>\n",
       "<style scoped>\n",
       "    .dataframe tbody tr th:only-of-type {\n",
       "        vertical-align: middle;\n",
       "    }\n",
       "\n",
       "    .dataframe tbody tr th {\n",
       "        vertical-align: top;\n",
       "    }\n",
       "\n",
       "    .dataframe thead th {\n",
       "        text-align: right;\n",
       "    }\n",
       "</style>\n",
       "<table border=\"1\" class=\"dataframe\">\n",
       "  <thead>\n",
       "    <tr style=\"text-align: right;\">\n",
       "      <th></th>\n",
       "      <th>RUBRICA</th>\n",
       "      <th>CONT_PESSOA</th>\n",
       "      <th>CIDADE</th>\n",
       "      <th>DATA_OCORRENCIA_BO</th>\n",
       "      <th>HORA_OCORRENCIA_BO</th>\n",
       "      <th>NOME_DELEGACIA_CIRC</th>\n",
       "      <th>LOGRADOURO</th>\n",
       "      <th>NUMERO_LOGRADOURO</th>\n",
       "      <th>LATITUDE</th>\n",
       "      <th>LONGITUDE</th>\n",
       "    </tr>\n",
       "  </thead>\n",
       "  <tbody>\n",
       "    <tr>\n",
       "      <td>8175</td>\n",
       "      <td>Lesão corporal culposa na direção de veículo a...</td>\n",
       "      <td>2</td>\n",
       "      <td>S.PAULO</td>\n",
       "      <td>18/04/2007</td>\n",
       "      <td>15:30</td>\n",
       "      <td>27º D.P.  IBIRAPUERA</td>\n",
       "      <td>AV DOS BANDEIRANTES</td>\n",
       "      <td>0</td>\n",
       "      <td>-23.61723558</td>\n",
       "      <td>-46.66211774</td>\n",
       "    </tr>\n",
       "    <tr>\n",
       "      <td>42993</td>\n",
       "      <td>Lesão corporal culposa na direção de veículo a...</td>\n",
       "      <td>1</td>\n",
       "      <td>S.PAULO</td>\n",
       "      <td>18/04/2007</td>\n",
       "      <td>15:30</td>\n",
       "      <td>27º D.P.  IBIRAPUERA</td>\n",
       "      <td>AV DOS BANDEIRANTES</td>\n",
       "      <td>0</td>\n",
       "      <td>-23.61723558</td>\n",
       "      <td>-46.66211774</td>\n",
       "    </tr>\n",
       "    <tr>\n",
       "      <td>57493</td>\n",
       "      <td>Roubo (art. 157)</td>\n",
       "      <td>3</td>\n",
       "      <td>GUARULHOS</td>\n",
       "      <td>15/02/2007</td>\n",
       "      <td>20:00</td>\n",
       "      <td>09º D.P. GUARULHOS</td>\n",
       "      <td>R MEDITERRANEO</td>\n",
       "      <td>0</td>\n",
       "      <td>-23.43025219</td>\n",
       "      <td>-46.51080813</td>\n",
       "    </tr>\n",
       "    <tr>\n",
       "      <td>58630</td>\n",
       "      <td>Roubo (art. 157)</td>\n",
       "      <td>4</td>\n",
       "      <td>S.PAULO</td>\n",
       "      <td>02/05/2007</td>\n",
       "      <td>02:30</td>\n",
       "      <td>70º D.P. VILA EMA</td>\n",
       "      <td>R JOSE ANTONIO FONTES</td>\n",
       "      <td>500</td>\n",
       "      <td>-23.60082055</td>\n",
       "      <td>-46.52558525</td>\n",
       "    </tr>\n",
       "    <tr>\n",
       "      <td>60557</td>\n",
       "      <td>Lesão corporal (art. 129)</td>\n",
       "      <td>3</td>\n",
       "      <td>S.PAULO</td>\n",
       "      <td>16/01/2007</td>\n",
       "      <td>13:20</td>\n",
       "      <td>01º D.P. SE</td>\n",
       "      <td>RUA BOA VISTA</td>\n",
       "      <td>0</td>\n",
       "      <td>-23.54638924</td>\n",
       "      <td>-46.63352271</td>\n",
       "    </tr>\n",
       "    <tr>\n",
       "      <td>...</td>\n",
       "      <td>...</td>\n",
       "      <td>...</td>\n",
       "      <td>...</td>\n",
       "      <td>...</td>\n",
       "      <td>...</td>\n",
       "      <td>...</td>\n",
       "      <td>...</td>\n",
       "      <td>...</td>\n",
       "      <td>...</td>\n",
       "      <td>...</td>\n",
       "    </tr>\n",
       "    <tr>\n",
       "      <td>1383644</td>\n",
       "      <td>Furto qualificado (art. 155, §4o.)</td>\n",
       "      <td>1</td>\n",
       "      <td>OSASCO</td>\n",
       "      <td>29/07/2007</td>\n",
       "      <td>15:30</td>\n",
       "      <td>05º D.P. OSASCO</td>\n",
       "      <td>R ESTER ROMBENSO</td>\n",
       "      <td>180</td>\n",
       "      <td>-23.5268547</td>\n",
       "      <td>-46.7807561</td>\n",
       "    </tr>\n",
       "    <tr>\n",
       "      <td>1394987</td>\n",
       "      <td>Roubo (art. 157)</td>\n",
       "      <td>3</td>\n",
       "      <td>S.PAULO</td>\n",
       "      <td>21/07/2007</td>\n",
       "      <td>21:30</td>\n",
       "      <td>49º D.P.  SAO MATEUS</td>\n",
       "      <td>R GREGORIO LAZZARINI</td>\n",
       "      <td>194</td>\n",
       "      <td>-23.60774789</td>\n",
       "      <td>-46.47027672</td>\n",
       "    </tr>\n",
       "    <tr>\n",
       "      <td>1423963</td>\n",
       "      <td>Roubo (art. 157)</td>\n",
       "      <td>1</td>\n",
       "      <td>S.PAULO</td>\n",
       "      <td>26/11/2007</td>\n",
       "      <td>22:30</td>\n",
       "      <td>91º D.P. CEASA</td>\n",
       "      <td>R GUAIPA</td>\n",
       "      <td>1539</td>\n",
       "      <td>-23.52340416</td>\n",
       "      <td>-46.73670271</td>\n",
       "    </tr>\n",
       "    <tr>\n",
       "      <td>1426463</td>\n",
       "      <td>Roubo (art. 157)</td>\n",
       "      <td>3</td>\n",
       "      <td>S.PAULO</td>\n",
       "      <td>29/07/2007</td>\n",
       "      <td>01:00</td>\n",
       "      <td>48º D.P.  CIDADE DUTRA</td>\n",
       "      <td>AV SEN TEOTONIO VILELA</td>\n",
       "      <td>4720</td>\n",
       "      <td>-23.74032791</td>\n",
       "      <td>-46.70380015</td>\n",
       "    </tr>\n",
       "    <tr>\n",
       "      <td>1438175</td>\n",
       "      <td>Lesão corporal (art. 129)</td>\n",
       "      <td>3</td>\n",
       "      <td>CAJAMAR</td>\n",
       "      <td>09/09/2007</td>\n",
       "      <td>16:35</td>\n",
       "      <td>01º D.P. CAJAMAR</td>\n",
       "      <td>AV TEN MARQUES</td>\n",
       "      <td>99999</td>\n",
       "      <td>-23.54205049</td>\n",
       "      <td>-45.99750118</td>\n",
       "    </tr>\n",
       "  </tbody>\n",
       "</table>\n",
       "<p>204 rows × 10 columns</p>\n",
       "</div>"
      ],
      "text/plain": [
       "                                                   RUBRICA CONT_PESSOA  \\\n",
       "8175     Lesão corporal culposa na direção de veículo a...           2   \n",
       "42993    Lesão corporal culposa na direção de veículo a...           1   \n",
       "57493                                     Roubo (art. 157)           3   \n",
       "58630                                     Roubo (art. 157)           4   \n",
       "60557                            Lesão corporal (art. 129)           3   \n",
       "...                                                    ...         ...   \n",
       "1383644                 Furto qualificado (art. 155, §4o.)           1   \n",
       "1394987                                   Roubo (art. 157)           3   \n",
       "1423963                                   Roubo (art. 157)           1   \n",
       "1426463                                   Roubo (art. 157)           3   \n",
       "1438175                          Lesão corporal (art. 129)           3   \n",
       "\n",
       "                                           CIDADE DATA_OCORRENCIA_BO  \\\n",
       "8175     S.PAULO                                          18/04/2007   \n",
       "42993    S.PAULO                                          18/04/2007   \n",
       "57493    GUARULHOS                                        15/02/2007   \n",
       "58630    S.PAULO                                          02/05/2007   \n",
       "60557    S.PAULO                                          16/01/2007   \n",
       "...                                           ...                ...   \n",
       "1383644  OSASCO                                           29/07/2007   \n",
       "1394987  S.PAULO                                          21/07/2007   \n",
       "1423963  S.PAULO                                          26/11/2007   \n",
       "1426463  S.PAULO                                          29/07/2007   \n",
       "1438175  CAJAMAR                                          09/09/2007   \n",
       "\n",
       "        HORA_OCORRENCIA_BO             NOME_DELEGACIA_CIRC  \\\n",
       "8175                 15:30  27º D.P.  IBIRAPUERA             \n",
       "42993                15:30  27º D.P.  IBIRAPUERA             \n",
       "57493                20:00  09º D.P. GUARULHOS               \n",
       "58630                02:30  70º D.P. VILA EMA                \n",
       "60557                13:20  01º D.P. SE                      \n",
       "...                    ...                             ...   \n",
       "1383644              15:30  05º D.P. OSASCO                  \n",
       "1394987              21:30  49º D.P.  SAO MATEUS             \n",
       "1423963              22:30  91º D.P. CEASA                   \n",
       "1426463              01:00  48º D.P.  CIDADE DUTRA           \n",
       "1438175              16:35  01º D.P. CAJAMAR                 \n",
       "\n",
       "                                       LOGRADOURO NUMERO_LOGRADOURO  \\\n",
       "8175     AV DOS BANDEIRANTES                                      0   \n",
       "42993    AV DOS BANDEIRANTES                                      0   \n",
       "57493    R MEDITERRANEO                                           0   \n",
       "58630    R JOSE ANTONIO FONTES                                  500   \n",
       "60557    RUA BOA VISTA                                            0   \n",
       "...                                           ...               ...   \n",
       "1383644  R ESTER ROMBENSO                                       180   \n",
       "1394987  R GREGORIO LAZZARINI                                   194   \n",
       "1423963  R GUAIPA                                              1539   \n",
       "1426463  AV SEN TEOTONIO VILELA                                4720   \n",
       "1438175  AV TEN MARQUES                                       99999   \n",
       "\n",
       "             LATITUDE     LONGITUDE  \n",
       "8175     -23.61723558  -46.66211774  \n",
       "42993    -23.61723558  -46.66211774  \n",
       "57493    -23.43025219  -46.51080813  \n",
       "58630    -23.60082055  -46.52558525  \n",
       "60557    -23.54638924  -46.63352271  \n",
       "...               ...           ...  \n",
       "1383644   -23.5268547   -46.7807561  \n",
       "1394987  -23.60774789  -46.47027672  \n",
       "1423963  -23.52340416  -46.73670271  \n",
       "1426463  -23.74032791  -46.70380015  \n",
       "1438175  -23.54205049  -45.99750118  \n",
       "\n",
       "[204 rows x 10 columns]"
      ]
     },
     "execution_count": 31,
     "metadata": {},
     "output_type": "execute_result"
    }
   ],
   "source": [
    "# sem dropna() = 1438704\n",
    "# com dropna() = 33572\n",
    "# com dropna() e limpando info sobre LAI = 204\n",
    "\n",
    "data_2007_geo = data_2007[['RUBRICA', 'CONT_PESSOA','CIDADE','DATA_OCORRENCIA_BO',\n",
    "                           'HORA_OCORRENCIA_BO', 'NOME_DELEGACIA_CIRC','LOGRADOURO',\n",
    "                           'NUMERO_LOGRADOURO', 'LATITUDE', 'LONGITUDE']].dropna()\n",
    "\n",
    "data_2007_geo = data_2007_geo[data_2007_geo['LATITUDE'] != \"Informação restrita (art. 31 da LAI)\"]\n",
    "data_2007_geo"
   ]
  },
  {
   "cell_type": "markdown",
   "metadata": {},
   "source": [
    "#### 2014"
   ]
  },
  {
   "cell_type": "code",
   "execution_count": 35,
   "metadata": {},
   "outputs": [
    {
     "data": {
      "text/html": [
       "<div>\n",
       "<style scoped>\n",
       "    .dataframe tbody tr th:only-of-type {\n",
       "        vertical-align: middle;\n",
       "    }\n",
       "\n",
       "    .dataframe tbody tr th {\n",
       "        vertical-align: top;\n",
       "    }\n",
       "\n",
       "    .dataframe thead th {\n",
       "        text-align: right;\n",
       "    }\n",
       "</style>\n",
       "<table border=\"1\" class=\"dataframe\">\n",
       "  <thead>\n",
       "    <tr style=\"text-align: right;\">\n",
       "      <th></th>\n",
       "      <th>RUBRICA</th>\n",
       "      <th>CONT_PESSOA</th>\n",
       "      <th>CIDADE</th>\n",
       "      <th>DATA_OCORRENCIA_BO</th>\n",
       "      <th>HORA_OCORRENCIA_BO</th>\n",
       "      <th>NOME_DELEGACIA_CIRC</th>\n",
       "      <th>LOGRADOURO</th>\n",
       "      <th>NUMERO_LOGRADOURO</th>\n",
       "      <th>LATITUDE</th>\n",
       "      <th>LONGITUDE</th>\n",
       "    </tr>\n",
       "  </thead>\n",
       "  <tbody>\n",
       "    <tr>\n",
       "      <td>0</td>\n",
       "      <td>Roubo (art. 157)</td>\n",
       "      <td>2.0</td>\n",
       "      <td>S.PAULO</td>\n",
       "      <td>02/01/2014</td>\n",
       "      <td>06:30</td>\n",
       "      <td>83º D.P. PARQUE BRISTOL</td>\n",
       "      <td>AV MIGUEL STEFANO</td>\n",
       "      <td>9999</td>\n",
       "      <td>-23.65760046</td>\n",
       "      <td>-46.61717673</td>\n",
       "    </tr>\n",
       "    <tr>\n",
       "      <td>3</td>\n",
       "      <td>Furto (art. 155)</td>\n",
       "      <td>14.0</td>\n",
       "      <td>S.ANDRE</td>\n",
       "      <td>01/01/2014</td>\n",
       "      <td>01:00</td>\n",
       "      <td>06º D.P. SANTO ANDRÉ</td>\n",
       "      <td>AV AUREA</td>\n",
       "      <td>785</td>\n",
       "      <td>-23.69004592</td>\n",
       "      <td>-46.51597554</td>\n",
       "    </tr>\n",
       "    <tr>\n",
       "      <td>4</td>\n",
       "      <td>Furto (art. 155)</td>\n",
       "      <td>3.0</td>\n",
       "      <td>S.ANDRE</td>\n",
       "      <td>01/01/2014</td>\n",
       "      <td>01:00</td>\n",
       "      <td>06º D.P. SANTO ANDRÉ</td>\n",
       "      <td>AV AUREA</td>\n",
       "      <td>785</td>\n",
       "      <td>-23.69004592</td>\n",
       "      <td>-46.51597554</td>\n",
       "    </tr>\n",
       "    <tr>\n",
       "      <td>5</td>\n",
       "      <td>Furto (art. 155)</td>\n",
       "      <td>8.0</td>\n",
       "      <td>S.ANDRE</td>\n",
       "      <td>01/01/2014</td>\n",
       "      <td>01:00</td>\n",
       "      <td>06º D.P. SANTO ANDRÉ</td>\n",
       "      <td>AV AUREA</td>\n",
       "      <td>785</td>\n",
       "      <td>-23.69004592</td>\n",
       "      <td>-46.51597554</td>\n",
       "    </tr>\n",
       "    <tr>\n",
       "      <td>7</td>\n",
       "      <td>Lesão corporal culposa na direção de veículo a...</td>\n",
       "      <td>4.0</td>\n",
       "      <td>RIBEIRAO PIRES</td>\n",
       "      <td>01/01/2014</td>\n",
       "      <td>00:50</td>\n",
       "      <td>DEL.POL.RIBEIRAO PIRES</td>\n",
       "      <td>RODOVIA INDIO TIBIRICA</td>\n",
       "      <td>48950</td>\n",
       "      <td>-23.75766189</td>\n",
       "      <td>-46.45477045</td>\n",
       "    </tr>\n",
       "    <tr>\n",
       "      <td>...</td>\n",
       "      <td>...</td>\n",
       "      <td>...</td>\n",
       "      <td>...</td>\n",
       "      <td>...</td>\n",
       "      <td>...</td>\n",
       "      <td>...</td>\n",
       "      <td>...</td>\n",
       "      <td>...</td>\n",
       "      <td>...</td>\n",
       "      <td>...</td>\n",
       "    </tr>\n",
       "    <tr>\n",
       "      <td>1830164</td>\n",
       "      <td>Roubo (art. 157)</td>\n",
       "      <td>2.0</td>\n",
       "      <td>S.PAULO</td>\n",
       "      <td>26/08/2014</td>\n",
       "      <td>20:10</td>\n",
       "      <td>44º D.P.  GUAIANAZES</td>\n",
       "      <td>RUA HIPOLITO DE CAMARGO</td>\n",
       "      <td>173</td>\n",
       "      <td>-23.54339144</td>\n",
       "      <td>-46.41520505</td>\n",
       "    </tr>\n",
       "    <tr>\n",
       "      <td>1834631</td>\n",
       "      <td>Roubo (art. 157)</td>\n",
       "      <td>3.0</td>\n",
       "      <td>S.PAULO</td>\n",
       "      <td>01/10/2014</td>\n",
       "      <td>06:20</td>\n",
       "      <td>64º D.P. CID.AE CARVALHO</td>\n",
       "      <td>RUA CABO JOEL LEITE</td>\n",
       "      <td>390</td>\n",
       "      <td>-23.53170288</td>\n",
       "      <td>-46.4713055</td>\n",
       "    </tr>\n",
       "    <tr>\n",
       "      <td>1841742</td>\n",
       "      <td>Roubo (art. 157)</td>\n",
       "      <td>3.0</td>\n",
       "      <td>S.PAULO</td>\n",
       "      <td>23/11/2014</td>\n",
       "      <td>07:00</td>\n",
       "      <td>98º D.P. JARDIM MIRIAM</td>\n",
       "      <td>RUA LAKME</td>\n",
       "      <td>0</td>\n",
       "      <td>-23.68978554</td>\n",
       "      <td>-46.65851509</td>\n",
       "    </tr>\n",
       "    <tr>\n",
       "      <td>1843062</td>\n",
       "      <td>Roubo (art. 157)</td>\n",
       "      <td>1.0</td>\n",
       "      <td>S.PAULO</td>\n",
       "      <td>02/12/2014</td>\n",
       "      <td>16:30</td>\n",
       "      <td>75º D.P. JARDIM ARPOADOR</td>\n",
       "      <td>RUA ALFREDO BERNARDES</td>\n",
       "      <td>300</td>\n",
       "      <td>-23.58738979</td>\n",
       "      <td>-46.77084679</td>\n",
       "    </tr>\n",
       "    <tr>\n",
       "      <td>1844186</td>\n",
       "      <td>Roubo (art. 157)</td>\n",
       "      <td>2.0</td>\n",
       "      <td>S.PAULO</td>\n",
       "      <td>28/10/2014</td>\n",
       "      <td>09:30</td>\n",
       "      <td>15º D.P. DR. LUC. H BEIGUELMAN</td>\n",
       "      <td>RUA JOAQUIM FLORIANO</td>\n",
       "      <td>211</td>\n",
       "      <td>-23.58387572</td>\n",
       "      <td>-46.67197684</td>\n",
       "    </tr>\n",
       "  </tbody>\n",
       "</table>\n",
       "<p>1156797 rows × 10 columns</p>\n",
       "</div>"
      ],
      "text/plain": [
       "                                                   RUBRICA  CONT_PESSOA  \\\n",
       "0                                         Roubo (art. 157)          2.0   \n",
       "3                                         Furto (art. 155)         14.0   \n",
       "4                                         Furto (art. 155)          3.0   \n",
       "5                                         Furto (art. 155)          8.0   \n",
       "7        Lesão corporal culposa na direção de veículo a...          4.0   \n",
       "...                                                    ...          ...   \n",
       "1830164                                   Roubo (art. 157)          2.0   \n",
       "1834631                                   Roubo (art. 157)          3.0   \n",
       "1841742                                   Roubo (art. 157)          3.0   \n",
       "1843062                                   Roubo (art. 157)          1.0   \n",
       "1844186                                   Roubo (art. 157)          2.0   \n",
       "\n",
       "                                           CIDADE DATA_OCORRENCIA_BO  \\\n",
       "0        S.PAULO                                          02/01/2014   \n",
       "3        S.ANDRE                                          01/01/2014   \n",
       "4        S.ANDRE                                          01/01/2014   \n",
       "5        S.ANDRE                                          01/01/2014   \n",
       "7        RIBEIRAO PIRES                                   01/01/2014   \n",
       "...                                           ...                ...   \n",
       "1830164  S.PAULO                                          26/08/2014   \n",
       "1834631  S.PAULO                                          01/10/2014   \n",
       "1841742  S.PAULO                                          23/11/2014   \n",
       "1843062  S.PAULO                                          02/12/2014   \n",
       "1844186  S.PAULO                                          28/10/2014   \n",
       "\n",
       "        HORA_OCORRENCIA_BO             NOME_DELEGACIA_CIRC  \\\n",
       "0                    06:30  83º D.P. PARQUE BRISTOL          \n",
       "3                    01:00  06º D.P. SANTO ANDRÉ             \n",
       "4                    01:00  06º D.P. SANTO ANDRÉ             \n",
       "5                    01:00  06º D.P. SANTO ANDRÉ             \n",
       "7                    00:50  DEL.POL.RIBEIRAO PIRES           \n",
       "...                    ...                             ...   \n",
       "1830164              20:10  44º D.P.  GUAIANAZES             \n",
       "1834631              06:20  64º D.P. CID.AE CARVALHO         \n",
       "1841742              07:00  98º D.P. JARDIM MIRIAM           \n",
       "1843062              16:30  75º D.P. JARDIM ARPOADOR         \n",
       "1844186              09:30  15º D.P. DR. LUC. H BEIGUELMAN   \n",
       "\n",
       "                                       LOGRADOURO NUMERO_LOGRADOURO  \\\n",
       "0        AV MIGUEL STEFANO                                     9999   \n",
       "3        AV AUREA                                               785   \n",
       "4        AV AUREA                                               785   \n",
       "5        AV AUREA                                               785   \n",
       "7        RODOVIA INDIO TIBIRICA                               48950   \n",
       "...                                           ...               ...   \n",
       "1830164  RUA HIPOLITO DE CAMARGO                                173   \n",
       "1834631  RUA CABO JOEL LEITE                                    390   \n",
       "1841742  RUA LAKME                                                0   \n",
       "1843062  RUA ALFREDO BERNARDES                                  300   \n",
       "1844186  RUA JOAQUIM FLORIANO                                   211   \n",
       "\n",
       "             LATITUDE     LONGITUDE  \n",
       "0        -23.65760046  -46.61717673  \n",
       "3        -23.69004592  -46.51597554  \n",
       "4        -23.69004592  -46.51597554  \n",
       "5        -23.69004592  -46.51597554  \n",
       "7        -23.75766189  -46.45477045  \n",
       "...               ...           ...  \n",
       "1830164  -23.54339144  -46.41520505  \n",
       "1834631  -23.53170288   -46.4713055  \n",
       "1841742  -23.68978554  -46.65851509  \n",
       "1843062  -23.58738979  -46.77084679  \n",
       "1844186  -23.58387572  -46.67197684  \n",
       "\n",
       "[1156797 rows x 10 columns]"
      ]
     },
     "execution_count": 35,
     "metadata": {},
     "output_type": "execute_result"
    }
   ],
   "source": [
    "# sem dropna() = 1844187\n",
    "# com dropna() = 1193604\n",
    "# com dropna() e limpando info sobre LAI = 1156797\n",
    "\n",
    "data_2014_geo = data_2014[['RUBRICA', 'CONT_PESSOA','CIDADE','DATA_OCORRENCIA_BO',\n",
    "                           'HORA_OCORRENCIA_BO', 'NOME_DELEGACIA_CIRC','LOGRADOURO',\n",
    "                           'NUMERO_LOGRADOURO', 'LATITUDE', 'LONGITUDE']].dropna()\n",
    "\n",
    "data_2014_geo = data_2014_geo[data_2014_geo['LATITUDE'] != \"Informação restrita (art. 31 da LAI)\"]\n",
    "data_2014_geo"
   ]
  },
  {
   "cell_type": "markdown",
   "metadata": {},
   "source": [
    "### geo 2007-2014"
   ]
  },
  {
   "cell_type": "code",
   "execution_count": 143,
   "metadata": {},
   "outputs": [],
   "source": [
    "data_2007_geo = data_2007[['RUBRICA', 'CONT_PESSOA','CIDADE','DATA_OCORRENCIA_BO',\n",
    "                           'HORA_OCORRENCIA_BO', 'NOME_DELEGACIA_CIRC','LOGRADOURO',\n",
    "                           'NUMERO_LOGRADOURO', 'LATITUDE', 'LONGITUDE']].dropna()\n",
    "\n",
    "data_2007_geo = data_2007_geo[data_2007_geo['LATITUDE'] != \"Informação restrita (art. 31 da LAI)\"]\n",
    "data_2007_geo.to_csv('data_2007_geo.csv')"
   ]
  },
  {
   "cell_type": "code",
   "execution_count": 144,
   "metadata": {},
   "outputs": [],
   "source": [
    "data_2008_geo = data_2008[['RUBRICA', 'CONT_PESSOA','CIDADE','DATA_OCORRENCIA_BO',\n",
    "                           'HORA_OCORRENCIA_BO', 'NOME_DELEGACIA_CIRC','LOGRADOURO',\n",
    "                           'NUMERO_LOGRADOURO', 'LATITUDE', 'LONGITUDE']].dropna()\n",
    "\n",
    "data_2008_geo = data_2008_geo[data_2008_geo['LATITUDE'] != \"Informação restrita (art. 31 da LAI)\"]\n",
    "data_2008_geo.to_csv('data_2008_geo.csv')"
   ]
  },
  {
   "cell_type": "code",
   "execution_count": 145,
   "metadata": {},
   "outputs": [],
   "source": [
    "data_2009_geo = data_2009[['RUBRICA', 'CONT_PESSOA','CIDADE','DATA_OCORRENCIA_BO',\n",
    "                           'HORA_OCORRENCIA_BO', 'NOME_DELEGACIA_CIRC','LOGRADOURO',\n",
    "                           'NUMERO_LOGRADOURO', 'LATITUDE', 'LONGITUDE']].dropna()\n",
    "\n",
    "data_2009_geo = data_2009_geo[data_2009_geo['LATITUDE'] != \"Informação restrita (art. 31 da LAI)\"]\n",
    "data_2009_geo.to_csv('data_2009_geo.csv')"
   ]
  },
  {
   "cell_type": "code",
   "execution_count": 146,
   "metadata": {},
   "outputs": [],
   "source": [
    "data_2010_geo = data_2010[['RUBRICA', 'CONT_PESSOA','CIDADE','DATA_OCORRENCIA_BO',\n",
    "                           'HORA_OCORRENCIA_BO', 'NOME_DELEGACIA_CIRC','LOGRADOURO',\n",
    "                           'NUMERO_LOGRADOURO', 'LATITUDE', 'LONGITUDE']].dropna()\n",
    "\n",
    "data_2010_geo = data_2010_geo[data_2010_geo['LATITUDE'] != \"Informação restrita (art. 31 da LAI)\"]\n",
    "data_2010_geo.to_csv('data_2010_geo.csv')"
   ]
  },
  {
   "cell_type": "code",
   "execution_count": 147,
   "metadata": {},
   "outputs": [],
   "source": [
    "data_2011_geo = data_2011[['RUBRICA', 'CONT_PESSOA','CIDADE','DATA_OCORRENCIA_BO',\n",
    "                           'HORA_OCORRENCIA_BO', 'NOME_DELEGACIA_CIRC','LOGRADOURO',\n",
    "                           'NUMERO_LOGRADOURO', 'LATITUDE', 'LONGITUDE']].dropna()\n",
    "\n",
    "data_2011_geo = data_2011_geo[data_2011_geo['LATITUDE'] != \"Informação restrita (art. 31 da LAI)\"]\n",
    "data_2011_geo.to_csv('data_2011_geo.csv')"
   ]
  },
  {
   "cell_type": "code",
   "execution_count": 148,
   "metadata": {},
   "outputs": [],
   "source": [
    "data_2012_geo = data_2012[['RUBRICA', 'CONT_PESSOA','CIDADE','DATA_OCORRENCIA_BO',\n",
    "                           'HORA_OCORRENCIA_BO', 'NOME_DELEGACIA_CIRC','LOGRADOURO',\n",
    "                           'NUMERO_LOGRADOURO', 'LATITUDE', 'LONGITUDE']].dropna()\n",
    "\n",
    "data_2012_geo = data_2012_geo[data_2012_geo['LATITUDE'] != \"Informação restrita (art. 31 da LAI)\"]\n",
    "data_2012_geo.to_csv('data_2012_geo.csv')"
   ]
  },
  {
   "cell_type": "code",
   "execution_count": 150,
   "metadata": {},
   "outputs": [],
   "source": [
    "data_2013_geo = data_2013[['RUBRICA', 'CONT_PESSOA','CIDADE','DATA_OCORRENCIA_BO',\n",
    "                           'HORA_OCORRENCIA_BO', 'NOME_DELEGACIA_CIRC','LOGRADOURO',\n",
    "                           'NUMERO_LOGRADOURO', 'LATITUDE', 'LONGITUDE']].dropna()\n",
    "\n",
    "data_2013_geo = data_2013_geo[data_2013_geo['LATITUDE'] != \"Informação restrita (art. 31 da LAI)\"]\n",
    "data_2013_geo.to_csv('data_2013_geo.csv')"
   ]
  },
  {
   "cell_type": "code",
   "execution_count": 151,
   "metadata": {},
   "outputs": [],
   "source": [
    "data_2014_geo = data_2014[['RUBRICA', 'CONT_PESSOA','CIDADE','DATA_OCORRENCIA_BO',\n",
    "                           'HORA_OCORRENCIA_BO', 'NOME_DELEGACIA_CIRC','LOGRADOURO',\n",
    "                           'NUMERO_LOGRADOURO', 'LATITUDE', 'LONGITUDE']].dropna()\n",
    "\n",
    "data_2014_geo = data_2014_geo[data_2014_geo['LATITUDE'] != \"Informação restrita (art. 31 da LAI)\"]\n",
    "data_2014_geo.to_csv('data_2014_geo.csv')"
   ]
  },
  {
   "cell_type": "code",
   "execution_count": 137,
   "metadata": {},
   "outputs": [
    {
     "data": {
      "text/plain": [
       "(5191230, 10)"
      ]
     },
     "execution_count": 137,
     "metadata": {},
     "output_type": "execute_result"
    }
   ],
   "source": [
    "data_total_geo = pd.concat([data_2007_geo, data_2008_geo, data_2009_geo, data_2010_geo, data_2011_geo, data_2012_geo, data_2013_geo, data_2014_geo])\n",
    "data_total_geo.shape"
   ]
  },
  {
   "cell_type": "code",
   "execution_count": 138,
   "metadata": {},
   "outputs": [],
   "source": [
    "data_total_geo.to_csv('data_total_geo.csv')"
   ]
  },
  {
   "cell_type": "code",
   "execution_count": 140,
   "metadata": {},
   "outputs": [],
   "source": [
    "data_total_geo07_10_serra = pd.concat([data_2007_geo, data_2008_geo, data_2009_geo, data_2010_geo])\n",
    "data_total_geo07_10_serra.to_csv('data_total_geo07_10_serra.csv')"
   ]
  },
  {
   "cell_type": "code",
   "execution_count": 141,
   "metadata": {},
   "outputs": [],
   "source": [
    "data_total_geo11_14_ackmin = pd.concat([data_2011_geo, data_2012_geo, data_2013_geo, data_2014_geo])\n",
    "data_total_geo11_14_ackmin.to_csv('data_total_geo11_14_ackmin.csv')"
   ]
  },
  {
   "cell_type": "markdown",
   "metadata": {},
   "source": [
    "### performance dos modelos"
   ]
  },
  {
   "cell_type": "code",
   "execution_count": 7,
   "metadata": {},
   "outputs": [
    {
     "name": "stdout",
     "output_type": "stream",
     "text": [
      "    ano  acuracia  recall\n",
      "0  2007        84      93\n",
      "1  2008        85      93\n",
      "2  2009        86      93\n",
      "3  2010        85      93\n"
     ]
    },
    {
     "data": {
      "image/png": "[encoded data removed]",
      "text/plain": [
       "<Figure size 432x288 with 1 Axes>"
      ]
     },
     "metadata": {},
     "output_type": "display_data"
    }
   ],
   "source": [
    "tabela_final = {'ano': [2007, 2008, 2009, 2010], 'acuracia':[84, 85, 86, 85], 'recall':[93,93,93,93]}\n",
    "\n",
    "a = pd.DataFrame.from_dict(tabela_final)\n",
    "print(a)\n",
    "\n",
    "sns.lineplot(a['ano'], a['acuracia'])\n",
    "sns.lineplot(a['ano'], a['recall']);"
   ]
  },
  {
   "cell_type": "code",
   "execution_count": 25,
   "metadata": {},
   "outputs": [
    {
     "name": "stdout",
     "output_type": "stream",
     "text": [
      "    ano  acuracia  recall\n",
      "0  2007        84      93\n",
      "1  2008        85      93\n",
      "2  2009        86      93\n",
      "3  2010        85      93\n"
     ]
    },
    {
     "data": {
      "image/png": "[encoded data removed]",
      "text/plain": [
       "<Figure size 1440x648 with 1 Axes>"
      ]
     },
     "metadata": {},
     "output_type": "display_data"
    }
   ],
   "source": [
    "tabela_final = {'ano': [2007, 2008, 2009, 2010], 'acuracia':[84, 85, 86, 85], 'recall':[93,93,93,93]}\n",
    "\n",
    "a = pd.DataFrame.from_dict(tabela_final)\n",
    "print(a)\n",
    "\n",
    "sns.set(font_scale=2)\n",
    "plt.figure(figsize=(20,20*0.45))\n",
    "plt.title('Performance do modelo (LIGHTGBM)', fontsize=20)\n",
    "\n",
    "sns.pointplot(a['ano'], a['acuracia'], color='red', marker='o')\n",
    "sns.pointplot(a['ano'], a['recall'], color='green', marker='x');\n",
    "\n",
    "#plt.xlim(0, 100)\n",
    "plt.ylim(80, 100)\n",
    "\n",
    "#plt.legend(labels=['Acurácia', 'Recall'])\n",
    "#plt.legend(('Acurácia', 'Recall'), ('')\n",
    "#plt.legend(bbox_to_anchor=(1.05, 1), loc=2, borderaxespad=0.)\n",
    "plt.xticks(rotation=0)\n",
    "plt.xlabel('', fontsize=20)\n",
    "plt.ylabel('', fontsize=20);"
   ]
  },
  {
   "cell_type": "code",
   "execution_count": null,
   "metadata": {},
   "outputs": [],
   "source": []
  }
 ],
 "metadata": {
  "kernelspec": {
   "display_name": "Python 3",
   "language": "python",
   "name": "python3"
  },
  "language_info": {
   "codemirror_mode": {
    "name": "ipython",
    "version": 3
   },
   "file_extension": ".py",
   "mimetype": "text/x-python",
   "name": "python",
   "nbconvert_exporter": "python",
   "pygments_lexer": "ipython3",
   "version": "3.7.4"
  }
 },
 "nbformat": 4,
 "nbformat_minor": 2
}
